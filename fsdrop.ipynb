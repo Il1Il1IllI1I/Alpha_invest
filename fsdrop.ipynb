{
 "cells": [
  {
   "cell_type": "markdown",
   "metadata": {},
   "source": [
    "### 분기별 데이터 불러낸 후 concat"
   ]
  },
  {
   "cell_type": "code",
   "execution_count": 1,
   "metadata": {},
   "outputs": [],
   "source": [
    "import pandas as pd\n",
    "from tqdm import tqdm\n",
    "\n",
    "pricedata = pd.read_csv('enlist_ver_2.0.csv')"
   ]
  },
  {
   "cell_type": "code",
   "execution_count": 17,
   "metadata": {},
   "outputs": [],
   "source": [
    "fsdata = pd.read_csv('kor_fs.csv', encoding='cp949')"
   ]
  },
  {
   "cell_type": "code",
   "execution_count": 4,
   "metadata": {},
   "outputs": [
    {
     "data": {
      "text/plain": [
       "2230"
      ]
     },
     "execution_count": 4,
     "metadata": {},
     "output_type": "execute_result"
    }
   ],
   "source": [
    "len(fsdata['거래소코드'].unique())"
   ]
  },
  {
   "cell_type": "code",
   "execution_count": 18,
   "metadata": {},
   "outputs": [],
   "source": [
    "fsdata.columns = ['회사명', '종목코드', '날짜', '당기순이익', '자산',\n",
    "       '부채', '자본금', '이익잉여금',\n",
    "       '매출액', '매출총이익',\n",
    "       '영업이익', '자본' ,'유동자산']"
   ]
  },
  {
   "cell_type": "code",
   "execution_count": 19,
   "metadata": {},
   "outputs": [],
   "source": [
    "fsdata.reset_index(inplace=True)\n"
   ]
  },
  {
   "cell_type": "code",
   "execution_count": 20,
   "metadata": {},
   "outputs": [],
   "source": [
    "\n",
    "fsdata.drop('index', axis=1, inplace=True)\n"
   ]
  },
  {
   "cell_type": "code",
   "execution_count": 8,
   "metadata": {},
   "outputs": [],
   "source": [
    "fsdata.to_csv('fs_ver_1.0.csv')"
   ]
  },
  {
   "cell_type": "code",
   "execution_count": 19,
   "metadata": {},
   "outputs": [],
   "source": [
    "#비상상황시\n",
    "import pandas as pd\n",
    "fsdata = pd.read_csv('fs_ver_1.0.csv')"
   ]
  },
  {
   "cell_type": "markdown",
   "metadata": {},
   "source": [
    "### 종목코드 별 날짜 데이터 개수가 43개인 기업만 concat"
   ]
  },
  {
   "cell_type": "code",
   "execution_count": 9,
   "metadata": {},
   "outputs": [],
   "source": [
    "uni = fsdata['종목코드'].unique().tolist()\n"
   ]
  },
  {
   "cell_type": "code",
   "execution_count": 10,
   "metadata": {},
   "outputs": [
    {
     "data": {
      "text/plain": [
       "(21203, 13)"
      ]
     },
     "execution_count": 10,
     "metadata": {},
     "output_type": "execute_result"
    }
   ],
   "source": [
    "fsdata.shape"
   ]
  },
  {
   "cell_type": "code",
   "execution_count": 11,
   "metadata": {},
   "outputs": [],
   "source": [
    "fsdata_copy = fsdata.copy()"
   ]
  },
  {
   "cell_type": "code",
   "execution_count": 12,
   "metadata": {},
   "outputs": [
    {
     "name": "stderr",
     "output_type": "stream",
     "text": [
      "  0%|          | 0/2230 [00:00<?, ?it/s]"
     ]
    },
    {
     "name": "stderr",
     "output_type": "stream",
     "text": [
      "100%|██████████| 2230/2230 [00:05<00:00, 409.18it/s]\n"
     ]
    },
    {
     "data": {
      "text/html": [
       "<div>\n",
       "<style scoped>\n",
       "    .dataframe tbody tr th:only-of-type {\n",
       "        vertical-align: middle;\n",
       "    }\n",
       "\n",
       "    .dataframe tbody tr th {\n",
       "        vertical-align: top;\n",
       "    }\n",
       "\n",
       "    .dataframe thead th {\n",
       "        text-align: right;\n",
       "    }\n",
       "</style>\n",
       "<table border=\"1\" class=\"dataframe\">\n",
       "  <thead>\n",
       "    <tr style=\"text-align: right;\">\n",
       "      <th></th>\n",
       "      <th>회사명</th>\n",
       "      <th>종목코드</th>\n",
       "      <th>날짜</th>\n",
       "      <th>당기순이익</th>\n",
       "      <th>자산</th>\n",
       "      <th>부채</th>\n",
       "      <th>자본금</th>\n",
       "      <th>이익잉여금</th>\n",
       "      <th>매출액</th>\n",
       "      <th>매출총이익</th>\n",
       "      <th>영업이익</th>\n",
       "      <th>자본</th>\n",
       "      <th>유동자산</th>\n",
       "    </tr>\n",
       "  </thead>\n",
       "  <tbody>\n",
       "    <tr>\n",
       "      <th>0</th>\n",
       "      <td>(주)CMG제약</td>\n",
       "      <td>58820</td>\n",
       "      <td>2011/12</td>\n",
       "      <td>-1264488.0</td>\n",
       "      <td>27548539.0</td>\n",
       "      <td>9257624.0</td>\n",
       "      <td>18290915.0</td>\n",
       "      <td>7425905.0</td>\n",
       "      <td>17751704.0</td>\n",
       "      <td>21846600.0</td>\n",
       "      <td>-44971257.0</td>\n",
       "      <td>-1264488.0</td>\n",
       "      <td>15264885.0</td>\n",
       "    </tr>\n",
       "    <tr>\n",
       "      <th>1</th>\n",
       "      <td>(주)CMG제약</td>\n",
       "      <td>58820</td>\n",
       "      <td>2012/12</td>\n",
       "      <td>-6892739.0</td>\n",
       "      <td>56988604.0</td>\n",
       "      <td>25386064.0</td>\n",
       "      <td>31602540.0</td>\n",
       "      <td>4606698.0</td>\n",
       "      <td>16255389.0</td>\n",
       "      <td>33012770.0</td>\n",
       "      <td>-52368787.0</td>\n",
       "      <td>-6892739.0</td>\n",
       "      <td>47073443.0</td>\n",
       "    </tr>\n",
       "    <tr>\n",
       "      <th>2</th>\n",
       "      <td>(주)CMG제약</td>\n",
       "      <td>58820</td>\n",
       "      <td>2013/12</td>\n",
       "      <td>335258.0</td>\n",
       "      <td>55961620.0</td>\n",
       "      <td>6913407.0</td>\n",
       "      <td>49048213.0</td>\n",
       "      <td>7815323.0</td>\n",
       "      <td>20322140.0</td>\n",
       "      <td>43313433.0</td>\n",
       "      <td>-52151440.0</td>\n",
       "      <td>350267.0</td>\n",
       "      <td>38258866.0</td>\n",
       "    </tr>\n",
       "    <tr>\n",
       "      <th>3</th>\n",
       "      <td>(주)CMG제약</td>\n",
       "      <td>58820</td>\n",
       "      <td>2014/12</td>\n",
       "      <td>171502.0</td>\n",
       "      <td>58127098.0</td>\n",
       "      <td>9060059.0</td>\n",
       "      <td>49067039.0</td>\n",
       "      <td>8434535.0</td>\n",
       "      <td>22752584.0</td>\n",
       "      <td>43313433.0</td>\n",
       "      <td>-52330174.0</td>\n",
       "      <td>171502.0</td>\n",
       "      <td>28359823.0</td>\n",
       "    </tr>\n",
       "    <tr>\n",
       "      <th>4</th>\n",
       "      <td>(주)CMG제약</td>\n",
       "      <td>58820</td>\n",
       "      <td>2015/12</td>\n",
       "      <td>-3648668.0</td>\n",
       "      <td>56591972.0</td>\n",
       "      <td>9719267.0</td>\n",
       "      <td>46872705.0</td>\n",
       "      <td>9804080.0</td>\n",
       "      <td>27041894.0</td>\n",
       "      <td>44148622.0</td>\n",
       "      <td>-56348409.0</td>\n",
       "      <td>-3648668.0</td>\n",
       "      <td>26330765.0</td>\n",
       "    </tr>\n",
       "    <tr>\n",
       "      <th>...</th>\n",
       "      <td>...</td>\n",
       "      <td>...</td>\n",
       "      <td>...</td>\n",
       "      <td>...</td>\n",
       "      <td>...</td>\n",
       "      <td>...</td>\n",
       "      <td>...</td>\n",
       "      <td>...</td>\n",
       "      <td>...</td>\n",
       "      <td>...</td>\n",
       "      <td>...</td>\n",
       "      <td>...</td>\n",
       "      <td>...</td>\n",
       "    </tr>\n",
       "    <tr>\n",
       "      <th>21198</th>\n",
       "      <td>흥아해운(주)</td>\n",
       "      <td>3280</td>\n",
       "      <td>2018/12</td>\n",
       "      <td>-96953501.0</td>\n",
       "      <td>782787041.0</td>\n",
       "      <td>726055487.0</td>\n",
       "      <td>56731554.0</td>\n",
       "      <td>-19521027.0</td>\n",
       "      <td>705007198.0</td>\n",
       "      <td>87821715.0</td>\n",
       "      <td>-40238681.0</td>\n",
       "      <td>-96953501.0</td>\n",
       "      <td>103181415.0</td>\n",
       "    </tr>\n",
       "    <tr>\n",
       "      <th>21199</th>\n",
       "      <td>흥아해운(주)</td>\n",
       "      <td>3280</td>\n",
       "      <td>2019/12</td>\n",
       "      <td>-52550693.0</td>\n",
       "      <td>386550839.0</td>\n",
       "      <td>368918610.0</td>\n",
       "      <td>17632229.0</td>\n",
       "      <td>-1375690.0</td>\n",
       "      <td>97376909.0</td>\n",
       "      <td>56056196.0</td>\n",
       "      <td>-46527222.0</td>\n",
       "      <td>-45471339.0</td>\n",
       "      <td>61182850.0</td>\n",
       "    </tr>\n",
       "    <tr>\n",
       "      <th>21200</th>\n",
       "      <td>흥아해운(주)</td>\n",
       "      <td>3280</td>\n",
       "      <td>2020/12</td>\n",
       "      <td>-37397763.0</td>\n",
       "      <td>284767347.0</td>\n",
       "      <td>304928523.0</td>\n",
       "      <td>-20161176.0</td>\n",
       "      <td>4981490.0</td>\n",
       "      <td>85455349.0</td>\n",
       "      <td>58366280.0</td>\n",
       "      <td>-84003911.0</td>\n",
       "      <td>-37397763.0</td>\n",
       "      <td>51275586.0</td>\n",
       "    </tr>\n",
       "    <tr>\n",
       "      <th>21201</th>\n",
       "      <td>흥아해운(주)</td>\n",
       "      <td>3280</td>\n",
       "      <td>2021/12</td>\n",
       "      <td>15770398.0</td>\n",
       "      <td>247989912.0</td>\n",
       "      <td>139842916.0</td>\n",
       "      <td>108146996.0</td>\n",
       "      <td>5337015.0</td>\n",
       "      <td>81724314.0</td>\n",
       "      <td>120212450.0</td>\n",
       "      <td>-68458487.0</td>\n",
       "      <td>15770398.0</td>\n",
       "      <td>53674943.0</td>\n",
       "    </tr>\n",
       "    <tr>\n",
       "      <th>21202</th>\n",
       "      <td>흥아해운(주)</td>\n",
       "      <td>3280</td>\n",
       "      <td>2022/12</td>\n",
       "      <td>13941742.0</td>\n",
       "      <td>292999868.0</td>\n",
       "      <td>164974779.0</td>\n",
       "      <td>128025089.0</td>\n",
       "      <td>31283260.0</td>\n",
       "      <td>146029641.0</td>\n",
       "      <td>120212450.0</td>\n",
       "      <td>-54358698.0</td>\n",
       "      <td>13941742.0</td>\n",
       "      <td>75237299.0</td>\n",
       "    </tr>\n",
       "  </tbody>\n",
       "</table>\n",
       "<p>16596 rows × 13 columns</p>\n",
       "</div>"
      ],
      "text/plain": [
       "            회사명   종목코드       날짜       당기순이익           자산           부채  \\\n",
       "0      (주)CMG제약  58820  2011/12  -1264488.0   27548539.0    9257624.0   \n",
       "1      (주)CMG제약  58820  2012/12  -6892739.0   56988604.0   25386064.0   \n",
       "2      (주)CMG제약  58820  2013/12    335258.0   55961620.0    6913407.0   \n",
       "3      (주)CMG제약  58820  2014/12    171502.0   58127098.0    9060059.0   \n",
       "4      (주)CMG제약  58820  2015/12  -3648668.0   56591972.0    9719267.0   \n",
       "...         ...    ...      ...         ...          ...          ...   \n",
       "21198   흥아해운(주)   3280  2018/12 -96953501.0  782787041.0  726055487.0   \n",
       "21199   흥아해운(주)   3280  2019/12 -52550693.0  386550839.0  368918610.0   \n",
       "21200   흥아해운(주)   3280  2020/12 -37397763.0  284767347.0  304928523.0   \n",
       "21201   흥아해운(주)   3280  2021/12  15770398.0  247989912.0  139842916.0   \n",
       "21202   흥아해운(주)   3280  2022/12  13941742.0  292999868.0  164974779.0   \n",
       "\n",
       "               자본금       이익잉여금          매출액        매출총이익        영업이익  \\\n",
       "0       18290915.0   7425905.0   17751704.0   21846600.0 -44971257.0   \n",
       "1       31602540.0   4606698.0   16255389.0   33012770.0 -52368787.0   \n",
       "2       49048213.0   7815323.0   20322140.0   43313433.0 -52151440.0   \n",
       "3       49067039.0   8434535.0   22752584.0   43313433.0 -52330174.0   \n",
       "4       46872705.0   9804080.0   27041894.0   44148622.0 -56348409.0   \n",
       "...            ...         ...          ...          ...         ...   \n",
       "21198   56731554.0 -19521027.0  705007198.0   87821715.0 -40238681.0   \n",
       "21199   17632229.0  -1375690.0   97376909.0   56056196.0 -46527222.0   \n",
       "21200  -20161176.0   4981490.0   85455349.0   58366280.0 -84003911.0   \n",
       "21201  108146996.0   5337015.0   81724314.0  120212450.0 -68458487.0   \n",
       "21202  128025089.0  31283260.0  146029641.0  120212450.0 -54358698.0   \n",
       "\n",
       "               자본         유동자산  \n",
       "0      -1264488.0   15264885.0  \n",
       "1      -6892739.0   47073443.0  \n",
       "2        350267.0   38258866.0  \n",
       "3        171502.0   28359823.0  \n",
       "4      -3648668.0   26330765.0  \n",
       "...           ...          ...  \n",
       "21198 -96953501.0  103181415.0  \n",
       "21199 -45471339.0   61182850.0  \n",
       "21200 -37397763.0   51275586.0  \n",
       "21201  15770398.0   53674943.0  \n",
       "21202  13941742.0   75237299.0  \n",
       "\n",
       "[16596 rows x 13 columns]"
      ]
     },
     "execution_count": 12,
     "metadata": {},
     "output_type": "execute_result"
    }
   ],
   "source": [
    "# fsdata_43 = pd.DataFrame()\n",
    "\n",
    "# for i in tqdm(uni):\n",
    "#     if len(fsdata[fsdata['종목코드']==i]['날짜'].unique()) == 43:\n",
    "#         fsdata_43 = pd.concat([fsdata_43, fsdata[fsdata['종목코드']==i]])\n",
    "\n",
    "# fsdata_43\n",
    "\n",
    "for i in tqdm(uni):\n",
    "    if len(fsdata[fsdata['종목코드']==i]['날짜'].unique()) != 12:\n",
    "        fsdata = fsdata.drop(fsdata[fsdata['종목코드']==i].index, axis=0)\n",
    "\n",
    "fsdata"
   ]
  },
  {
   "cell_type": "code",
   "execution_count": 13,
   "metadata": {},
   "outputs": [
    {
     "data": {
      "text/plain": [
       "(16596, 13)"
      ]
     },
     "execution_count": 13,
     "metadata": {},
     "output_type": "execute_result"
    }
   ],
   "source": [
    "fsdata.shape"
   ]
  },
  {
   "cell_type": "markdown",
   "metadata": {},
   "source": [
    "### price 데이터 종목코드로 filtering"
   ]
  },
  {
   "cell_type": "code",
   "execution_count": 21,
   "metadata": {},
   "outputs": [],
   "source": [
    "pricelist = pricedata['종목코드'].unique().tolist()"
   ]
  },
  {
   "cell_type": "code",
   "execution_count": 22,
   "metadata": {},
   "outputs": [
    {
     "name": "stderr",
     "output_type": "stream",
     "text": [
      "100%|██████████| 1338/1338 [00:03<00:00, 377.41it/s]\n"
     ]
    },
    {
     "data": {
      "text/html": [
       "<div>\n",
       "<style scoped>\n",
       "    .dataframe tbody tr th:only-of-type {\n",
       "        vertical-align: middle;\n",
       "    }\n",
       "\n",
       "    .dataframe tbody tr th {\n",
       "        vertical-align: top;\n",
       "    }\n",
       "\n",
       "    .dataframe thead th {\n",
       "        text-align: right;\n",
       "    }\n",
       "</style>\n",
       "<table border=\"1\" class=\"dataframe\">\n",
       "  <thead>\n",
       "    <tr style=\"text-align: right;\">\n",
       "      <th></th>\n",
       "      <th>회사명</th>\n",
       "      <th>종목코드</th>\n",
       "      <th>날짜</th>\n",
       "      <th>당기순이익</th>\n",
       "      <th>자산</th>\n",
       "      <th>부채</th>\n",
       "      <th>자본금</th>\n",
       "      <th>이익잉여금</th>\n",
       "      <th>매출액</th>\n",
       "      <th>매출총이익</th>\n",
       "      <th>영업이익</th>\n",
       "      <th>자본</th>\n",
       "      <th>유동자산</th>\n",
       "    </tr>\n",
       "  </thead>\n",
       "  <tbody>\n",
       "    <tr>\n",
       "      <th>14568</th>\n",
       "      <td>동화약품(주)</td>\n",
       "      <td>20</td>\n",
       "      <td>2011/12</td>\n",
       "      <td>17679223.0</td>\n",
       "      <td>339431477.0</td>\n",
       "      <td>109807603.0</td>\n",
       "      <td>229623874.0</td>\n",
       "      <td>107930253.0</td>\n",
       "      <td>234561984.0</td>\n",
       "      <td>27931470.0</td>\n",
       "      <td>172752303.0</td>\n",
       "      <td>17679223.0</td>\n",
       "      <td>132321355.0</td>\n",
       "    </tr>\n",
       "    <tr>\n",
       "      <th>14569</th>\n",
       "      <td>동화약품(주)</td>\n",
       "      <td>20</td>\n",
       "      <td>2012/12</td>\n",
       "      <td>1311241.0</td>\n",
       "      <td>324284672.0</td>\n",
       "      <td>97290002.0</td>\n",
       "      <td>226994670.0</td>\n",
       "      <td>98772674.0</td>\n",
       "      <td>223371997.0</td>\n",
       "      <td>27931470.0</td>\n",
       "      <td>169661268.0</td>\n",
       "      <td>1311241.0</td>\n",
       "      <td>121235712.0</td>\n",
       "    </tr>\n",
       "    <tr>\n",
       "      <th>14570</th>\n",
       "      <td>동화약품(주)</td>\n",
       "      <td>20</td>\n",
       "      <td>2013/12</td>\n",
       "      <td>1011860.0</td>\n",
       "      <td>316165541.0</td>\n",
       "      <td>88934413.0</td>\n",
       "      <td>227231127.0</td>\n",
       "      <td>95673706.0</td>\n",
       "      <td>220240575.0</td>\n",
       "      <td>27931470.0</td>\n",
       "      <td>170147330.0</td>\n",
       "      <td>1011860.0</td>\n",
       "      <td>116759938.0</td>\n",
       "    </tr>\n",
       "    <tr>\n",
       "      <th>14571</th>\n",
       "      <td>동화약품(주)</td>\n",
       "      <td>20</td>\n",
       "      <td>2014/12</td>\n",
       "      <td>4937205.0</td>\n",
       "      <td>313073100.0</td>\n",
       "      <td>83347317.0</td>\n",
       "      <td>229725782.0</td>\n",
       "      <td>95203910.0</td>\n",
       "      <td>213472145.0</td>\n",
       "      <td>27931470.0</td>\n",
       "      <td>173103713.0</td>\n",
       "      <td>4937205.0</td>\n",
       "      <td>120547703.0</td>\n",
       "    </tr>\n",
       "    <tr>\n",
       "      <th>14572</th>\n",
       "      <td>동화약품(주)</td>\n",
       "      <td>20</td>\n",
       "      <td>2015/12</td>\n",
       "      <td>5608652.0</td>\n",
       "      <td>317187030.0</td>\n",
       "      <td>87069288.0</td>\n",
       "      <td>230117742.0</td>\n",
       "      <td>96579379.0</td>\n",
       "      <td>223201285.0</td>\n",
       "      <td>27931470.0</td>\n",
       "      <td>174195361.0</td>\n",
       "      <td>5608652.0</td>\n",
       "      <td>135014686.0</td>\n",
       "    </tr>\n",
       "    <tr>\n",
       "      <th>...</th>\n",
       "      <td>...</td>\n",
       "      <td>...</td>\n",
       "      <td>...</td>\n",
       "      <td>...</td>\n",
       "      <td>...</td>\n",
       "      <td>...</td>\n",
       "      <td>...</td>\n",
       "      <td>...</td>\n",
       "      <td>...</td>\n",
       "      <td>...</td>\n",
       "      <td>...</td>\n",
       "      <td>...</td>\n",
       "      <td>...</td>\n",
       "    </tr>\n",
       "    <tr>\n",
       "      <th>14507</th>\n",
       "      <td>동일고무벨트(주)</td>\n",
       "      <td>163560</td>\n",
       "      <td>2018/12</td>\n",
       "      <td>9835573.0</td>\n",
       "      <td>283794224.0</td>\n",
       "      <td>97394523.0</td>\n",
       "      <td>186399701.0</td>\n",
       "      <td>42474431.0</td>\n",
       "      <td>257028413.0</td>\n",
       "      <td>6500000.0</td>\n",
       "      <td>76160271.0</td>\n",
       "      <td>9835573.0</td>\n",
       "      <td>148662425.0</td>\n",
       "    </tr>\n",
       "    <tr>\n",
       "      <th>14508</th>\n",
       "      <td>동일고무벨트(주)</td>\n",
       "      <td>163560</td>\n",
       "      <td>2019/12</td>\n",
       "      <td>8229095.0</td>\n",
       "      <td>279641942.0</td>\n",
       "      <td>86899049.0</td>\n",
       "      <td>192742893.0</td>\n",
       "      <td>44601271.0</td>\n",
       "      <td>256409873.0</td>\n",
       "      <td>6675000.0</td>\n",
       "      <td>82328463.0</td>\n",
       "      <td>8229095.0</td>\n",
       "      <td>146866314.0</td>\n",
       "    </tr>\n",
       "    <tr>\n",
       "      <th>14509</th>\n",
       "      <td>동일고무벨트(주)</td>\n",
       "      <td>163560</td>\n",
       "      <td>2020/12</td>\n",
       "      <td>7618448.0</td>\n",
       "      <td>274637745.0</td>\n",
       "      <td>75143524.0</td>\n",
       "      <td>199494220.0</td>\n",
       "      <td>44302881.0</td>\n",
       "      <td>238594728.0</td>\n",
       "      <td>6825000.0</td>\n",
       "      <td>88922150.0</td>\n",
       "      <td>7618448.0</td>\n",
       "      <td>144193669.0</td>\n",
       "    </tr>\n",
       "    <tr>\n",
       "      <th>14510</th>\n",
       "      <td>동일고무벨트(주)</td>\n",
       "      <td>163560</td>\n",
       "      <td>2021/12</td>\n",
       "      <td>3435784.0</td>\n",
       "      <td>303794263.0</td>\n",
       "      <td>103285147.0</td>\n",
       "      <td>200509116.0</td>\n",
       "      <td>45737972.0</td>\n",
       "      <td>272693029.0</td>\n",
       "      <td>6950000.0</td>\n",
       "      <td>89807209.0</td>\n",
       "      <td>3435784.0</td>\n",
       "      <td>157788577.0</td>\n",
       "    </tr>\n",
       "    <tr>\n",
       "      <th>14511</th>\n",
       "      <td>동일고무벨트(주)</td>\n",
       "      <td>163560</td>\n",
       "      <td>2022/12</td>\n",
       "      <td>9587170.0</td>\n",
       "      <td>372451008.0</td>\n",
       "      <td>160285008.0</td>\n",
       "      <td>212166000.0</td>\n",
       "      <td>73463794.0</td>\n",
       "      <td>382323241.0</td>\n",
       "      <td>6950000.0</td>\n",
       "      <td>101464093.0</td>\n",
       "      <td>9587170.0</td>\n",
       "      <td>216753169.0</td>\n",
       "    </tr>\n",
       "  </tbody>\n",
       "</table>\n",
       "<p>15086 rows × 13 columns</p>\n",
       "</div>"
      ],
      "text/plain": [
       "             회사명    종목코드       날짜       당기순이익           자산           부채  \\\n",
       "14568    동화약품(주)      20  2011/12  17679223.0  339431477.0  109807603.0   \n",
       "14569    동화약품(주)      20  2012/12   1311241.0  324284672.0   97290002.0   \n",
       "14570    동화약품(주)      20  2013/12   1011860.0  316165541.0   88934413.0   \n",
       "14571    동화약품(주)      20  2014/12   4937205.0  313073100.0   83347317.0   \n",
       "14572    동화약품(주)      20  2015/12   5608652.0  317187030.0   87069288.0   \n",
       "...          ...     ...      ...         ...          ...          ...   \n",
       "14507  동일고무벨트(주)  163560  2018/12   9835573.0  283794224.0   97394523.0   \n",
       "14508  동일고무벨트(주)  163560  2019/12   8229095.0  279641942.0   86899049.0   \n",
       "14509  동일고무벨트(주)  163560  2020/12   7618448.0  274637745.0   75143524.0   \n",
       "14510  동일고무벨트(주)  163560  2021/12   3435784.0  303794263.0  103285147.0   \n",
       "14511  동일고무벨트(주)  163560  2022/12   9587170.0  372451008.0  160285008.0   \n",
       "\n",
       "               자본금        이익잉여금          매출액       매출총이익         영업이익  \\\n",
       "14568  229623874.0  107930253.0  234561984.0  27931470.0  172752303.0   \n",
       "14569  226994670.0   98772674.0  223371997.0  27931470.0  169661268.0   \n",
       "14570  227231127.0   95673706.0  220240575.0  27931470.0  170147330.0   \n",
       "14571  229725782.0   95203910.0  213472145.0  27931470.0  173103713.0   \n",
       "14572  230117742.0   96579379.0  223201285.0  27931470.0  174195361.0   \n",
       "...            ...          ...          ...         ...          ...   \n",
       "14507  186399701.0   42474431.0  257028413.0   6500000.0   76160271.0   \n",
       "14508  192742893.0   44601271.0  256409873.0   6675000.0   82328463.0   \n",
       "14509  199494220.0   44302881.0  238594728.0   6825000.0   88922150.0   \n",
       "14510  200509116.0   45737972.0  272693029.0   6950000.0   89807209.0   \n",
       "14511  212166000.0   73463794.0  382323241.0   6950000.0  101464093.0   \n",
       "\n",
       "               자본         유동자산  \n",
       "14568  17679223.0  132321355.0  \n",
       "14569   1311241.0  121235712.0  \n",
       "14570   1011860.0  116759938.0  \n",
       "14571   4937205.0  120547703.0  \n",
       "14572   5608652.0  135014686.0  \n",
       "...           ...          ...  \n",
       "14507   9835573.0  148662425.0  \n",
       "14508   8229095.0  146866314.0  \n",
       "14509   7618448.0  144193669.0  \n",
       "14510   3435784.0  157788577.0  \n",
       "14511   9587170.0  216753169.0  \n",
       "\n",
       "[15086 rows x 13 columns]"
      ]
     },
     "execution_count": 22,
     "metadata": {},
     "output_type": "execute_result"
    }
   ],
   "source": [
    "fsdata_filt=pd.DataFrame()\n",
    "\n",
    "for i in tqdm(pricelist):\n",
    "   fsdata_filt = pd.concat([fsdata_filt, fsdata[fsdata['종목코드']==i]])\n",
    "\n",
    "fsdata_filt"
   ]
  },
  {
   "cell_type": "code",
   "execution_count": 23,
   "metadata": {},
   "outputs": [
    {
     "data": {
      "text/plain": [
       "array(['2011/12', '2012/12', '2013/12', '2014/12', '2015/12', '2016/12',\n",
       "       '2017/12', '2018/12', '2019/12', '2020/12', '2021/12', '2022/12',\n",
       "       '2011/03', '2012/03', '2013/03', '2014/03', '2015/03', '2016/03',\n",
       "       '2017/03', '2011/09', '2012/09', '2013/09', '2014/09', '2018/03',\n",
       "       '2019/03', '2020/03', '2011/06', '2012/06', '2013/06', '2014/06',\n",
       "       '2015/09', '2015/06', '2016/06', '2017/06', '2018/06', '2011/10',\n",
       "       '2019/06'], dtype=object)"
      ]
     },
     "execution_count": 23,
     "metadata": {},
     "output_type": "execute_result"
    }
   ],
   "source": [
    "fsdata_filt['날짜'].unique()"
   ]
  },
  {
   "cell_type": "code",
   "execution_count": 24,
   "metadata": {},
   "outputs": [],
   "source": [
    "date_list = ['2011/03', '2012/03', '2013/03', '2014/03', '2015/03', '2016/03',\n",
    "       '2017/03', '2011/09', '2012/09', '2013/09', '2014/09', '2018/03',\n",
    "       '2019/03', '2020/03', '2011/06', '2012/06', '2013/06', '2014/06',\n",
    "       '2015/09', '2015/06', '2016/06', '2017/06', '2018/06', '2011/10',\n",
    "       '2019/06']\n",
    "fsdata_filt_date = fsdata_filt.copy()"
   ]
  },
  {
   "cell_type": "code",
   "execution_count": 25,
   "metadata": {},
   "outputs": [
    {
     "name": "stderr",
     "output_type": "stream",
     "text": [
      "  0%|          | 0/25 [00:00<?, ?it/s]C:\\Users\\성현태\\AppData\\Local\\Temp\\ipykernel_16500\\3580860842.py:2: UserWarning: Boolean Series key will be reindexed to match DataFrame index.\n",
      "  fsdata_filt_date = fsdata_filt_date.drop(fsdata_filt_date[fsdata_filt['날짜']==i].index)\n",
      "100%|██████████| 25/25 [00:00<00:00, 88.21it/s] \n"
     ]
    }
   ],
   "source": [
    "for i in tqdm(date_list):\n",
    "    fsdata_filt_date = fsdata_filt_date.drop(fsdata_filt_date[fsdata_filt['날짜']==i].index)"
   ]
  },
  {
   "cell_type": "code",
   "execution_count": 26,
   "metadata": {},
   "outputs": [
    {
     "data": {
      "text/plain": [
       "20        12\n",
       "54950     12\n",
       "57540     12\n",
       "57050     12\n",
       "57030     12\n",
       "          ..\n",
       "36420      4\n",
       "54180      3\n",
       "18700      2\n",
       "970        2\n",
       "108320     1\n",
       "Name: 종목코드, Length: 1263, dtype: int64"
      ]
     },
     "execution_count": 26,
     "metadata": {},
     "output_type": "execute_result"
    }
   ],
   "source": [
    "fsdata_filt_date['종목코드'].value_counts()"
   ]
  },
  {
   "cell_type": "code",
   "execution_count": 27,
   "metadata": {},
   "outputs": [],
   "source": [
    "fsdata_filt_date_real = fsdata_filt_date.copy()"
   ]
  },
  {
   "cell_type": "code",
   "execution_count": 28,
   "metadata": {},
   "outputs": [],
   "source": [
    "code_list = fsdata_filt_date_real['종목코드'].unique().tolist()"
   ]
  },
  {
   "cell_type": "code",
   "execution_count": 29,
   "metadata": {},
   "outputs": [
    {
     "name": "stderr",
     "output_type": "stream",
     "text": [
      "100%|██████████| 1263/1263 [00:01<00:00, 1047.21it/s]\n"
     ]
    }
   ],
   "source": [
    "for i in tqdm(code_list):\n",
    "    if len(fsdata_filt_date_real[fsdata_filt_date_real['종목코드']==i]['날짜']) != 12:\n",
    "        fsdata_filt_date_real = fsdata_filt_date_real.drop(fsdata_filt_date_real[fsdata_filt_date_real['종목코드']==i].index, axis=0)"
   ]
  },
  {
   "cell_type": "code",
   "execution_count": 30,
   "metadata": {},
   "outputs": [
    {
     "data": {
      "text/plain": [
       "20        12\n",
       "58730     12\n",
       "58630     12\n",
       "58610     12\n",
       "58470     12\n",
       "          ..\n",
       "17000     12\n",
       "16920     12\n",
       "16800     12\n",
       "16710     12\n",
       "145990    12\n",
       "Name: 종목코드, Length: 1210, dtype: int64"
      ]
     },
     "execution_count": 30,
     "metadata": {},
     "output_type": "execute_result"
    }
   ],
   "source": [
    "fsdata_filt_date_real['종목코드'].value_counts()"
   ]
  },
  {
   "cell_type": "code",
   "execution_count": 31,
   "metadata": {},
   "outputs": [],
   "source": [
    "fsdata_filt_date_real.to_csv('fs_ver_1.1.csv')"
   ]
  },
  {
   "cell_type": "code",
   "execution_count": 48,
   "metadata": {},
   "outputs": [],
   "source": [
    "fsdata_filt = pd.read_csv('fs_ver_1.1.csv')"
   ]
  },
  {
   "cell_type": "markdown",
   "metadata": {},
   "source": [
    "### 0값이 존재하는 거래소코드 데이터 drop"
   ]
  },
  {
   "cell_type": "code",
   "execution_count": 49,
   "metadata": {},
   "outputs": [
    {
     "data": {
      "text/plain": [
       "Unnamed: 0    12\n",
       "회사명           12\n",
       "종목코드          12\n",
       "날짜            12\n",
       "당기순이익          0\n",
       "자산             0\n",
       "부채             0\n",
       "자본금            0\n",
       "이익잉여금          0\n",
       "매출액            0\n",
       "매출총이익          0\n",
       "영업이익           0\n",
       "자본             0\n",
       "유동자산           0\n",
       "dtype: int64"
      ]
     },
     "execution_count": 49,
     "metadata": {},
     "output_type": "execute_result"
    }
   ],
   "source": [
    "fsdata_filt[fsdata_filt['매출액'].isna()].count()"
   ]
  },
  {
   "cell_type": "code",
   "execution_count": 53,
   "metadata": {},
   "outputs": [
    {
     "data": {
      "text/plain": [
       "1779    4150\n",
       "Name: 종목코드, dtype: int64"
      ]
     },
     "execution_count": 53,
     "metadata": {},
     "output_type": "execute_result"
    }
   ],
   "source": [
    "fsdata_filt[fsdata_filt['매출액']==0]['종목코드']"
   ]
  },
  {
   "cell_type": "code",
   "execution_count": 68,
   "metadata": {},
   "outputs": [
    {
     "data": {
      "text/html": [
       "<div>\n",
       "<style scoped>\n",
       "    .dataframe tbody tr th:only-of-type {\n",
       "        vertical-align: middle;\n",
       "    }\n",
       "\n",
       "    .dataframe tbody tr th {\n",
       "        vertical-align: top;\n",
       "    }\n",
       "\n",
       "    .dataframe thead th {\n",
       "        text-align: right;\n",
       "    }\n",
       "</style>\n",
       "<table border=\"1\" class=\"dataframe\">\n",
       "  <thead>\n",
       "    <tr style=\"text-align: right;\">\n",
       "      <th></th>\n",
       "      <th>Unnamed: 0</th>\n",
       "      <th>회사명</th>\n",
       "      <th>종목코드</th>\n",
       "      <th>날짜</th>\n",
       "      <th>당기순이익</th>\n",
       "      <th>자산</th>\n",
       "      <th>부채</th>\n",
       "      <th>자본금</th>\n",
       "      <th>이익잉여금</th>\n",
       "      <th>매출액</th>\n",
       "      <th>매출총이익</th>\n",
       "      <th>영업이익</th>\n",
       "      <th>자본</th>\n",
       "      <th>유동자산</th>\n",
       "    </tr>\n",
       "  </thead>\n",
       "  <tbody>\n",
       "  </tbody>\n",
       "</table>\n",
       "</div>"
      ],
      "text/plain": [
       "Empty DataFrame\n",
       "Columns: [Unnamed: 0, 회사명, 종목코드, 날짜, 당기순이익, 자산, 부채, 자본금, 이익잉여금, 매출액, 매출총이익, 영업이익, 자본, 유동자산]\n",
       "Index: []"
      ]
     },
     "execution_count": 68,
     "metadata": {},
     "output_type": "execute_result"
    }
   ],
   "source": [
    "fsdata_filt[fsdata_filt['유동자산'] == 0]\n",
    "# 1779 - 종목코드"
   ]
  },
  {
   "cell_type": "code",
   "execution_count": 69,
   "metadata": {},
   "outputs": [],
   "source": [
    "fsdata_zero = fsdata_filt.copy()"
   ]
  },
  {
   "cell_type": "code",
   "execution_count": 70,
   "metadata": {},
   "outputs": [],
   "source": [
    "# 무식하게 하나하나 쳐서 찾은 0값 가진 종목코드 list\n",
    "zero_list = [4150]"
   ]
  },
  {
   "cell_type": "code",
   "execution_count": 71,
   "metadata": {},
   "outputs": [
    {
     "name": "stderr",
     "output_type": "stream",
     "text": [
      "100%|██████████| 1/1 [00:00<00:00, 91.23it/s]\n"
     ]
    },
    {
     "data": {
      "text/html": [
       "<div>\n",
       "<style scoped>\n",
       "    .dataframe tbody tr th:only-of-type {\n",
       "        vertical-align: middle;\n",
       "    }\n",
       "\n",
       "    .dataframe tbody tr th {\n",
       "        vertical-align: top;\n",
       "    }\n",
       "\n",
       "    .dataframe thead th {\n",
       "        text-align: right;\n",
       "    }\n",
       "</style>\n",
       "<table border=\"1\" class=\"dataframe\">\n",
       "  <thead>\n",
       "    <tr style=\"text-align: right;\">\n",
       "      <th></th>\n",
       "      <th>Unnamed: 0</th>\n",
       "      <th>회사명</th>\n",
       "      <th>종목코드</th>\n",
       "      <th>날짜</th>\n",
       "      <th>당기순이익</th>\n",
       "      <th>자산</th>\n",
       "      <th>부채</th>\n",
       "      <th>자본금</th>\n",
       "      <th>이익잉여금</th>\n",
       "      <th>매출액</th>\n",
       "      <th>매출총이익</th>\n",
       "      <th>영업이익</th>\n",
       "      <th>자본</th>\n",
       "      <th>유동자산</th>\n",
       "    </tr>\n",
       "  </thead>\n",
       "  <tbody>\n",
       "    <tr>\n",
       "      <th>0</th>\n",
       "      <td>14568</td>\n",
       "      <td>동화약품(주)</td>\n",
       "      <td>20</td>\n",
       "      <td>2011/12</td>\n",
       "      <td>17679223.0</td>\n",
       "      <td>3.394315e+08</td>\n",
       "      <td>1.098076e+08</td>\n",
       "      <td>2.296239e+08</td>\n",
       "      <td>107930253.0</td>\n",
       "      <td>2.345620e+08</td>\n",
       "      <td>27931470.0</td>\n",
       "      <td>172752303.0</td>\n",
       "      <td>17679223.0</td>\n",
       "      <td>132321355.0</td>\n",
       "    </tr>\n",
       "    <tr>\n",
       "      <th>1</th>\n",
       "      <td>14569</td>\n",
       "      <td>동화약품(주)</td>\n",
       "      <td>20</td>\n",
       "      <td>2012/12</td>\n",
       "      <td>1311241.0</td>\n",
       "      <td>3.242847e+08</td>\n",
       "      <td>9.729000e+07</td>\n",
       "      <td>2.269947e+08</td>\n",
       "      <td>98772674.0</td>\n",
       "      <td>2.233720e+08</td>\n",
       "      <td>27931470.0</td>\n",
       "      <td>169661268.0</td>\n",
       "      <td>1311241.0</td>\n",
       "      <td>121235712.0</td>\n",
       "    </tr>\n",
       "    <tr>\n",
       "      <th>2</th>\n",
       "      <td>14570</td>\n",
       "      <td>동화약품(주)</td>\n",
       "      <td>20</td>\n",
       "      <td>2013/12</td>\n",
       "      <td>1011860.0</td>\n",
       "      <td>3.161655e+08</td>\n",
       "      <td>8.893441e+07</td>\n",
       "      <td>2.272311e+08</td>\n",
       "      <td>95673706.0</td>\n",
       "      <td>2.202406e+08</td>\n",
       "      <td>27931470.0</td>\n",
       "      <td>170147330.0</td>\n",
       "      <td>1011860.0</td>\n",
       "      <td>116759938.0</td>\n",
       "    </tr>\n",
       "    <tr>\n",
       "      <th>3</th>\n",
       "      <td>14571</td>\n",
       "      <td>동화약품(주)</td>\n",
       "      <td>20</td>\n",
       "      <td>2014/12</td>\n",
       "      <td>4937205.0</td>\n",
       "      <td>3.130731e+08</td>\n",
       "      <td>8.334732e+07</td>\n",
       "      <td>2.297258e+08</td>\n",
       "      <td>95203910.0</td>\n",
       "      <td>2.134721e+08</td>\n",
       "      <td>27931470.0</td>\n",
       "      <td>173103713.0</td>\n",
       "      <td>4937205.0</td>\n",
       "      <td>120547703.0</td>\n",
       "    </tr>\n",
       "    <tr>\n",
       "      <th>4</th>\n",
       "      <td>14572</td>\n",
       "      <td>동화약품(주)</td>\n",
       "      <td>20</td>\n",
       "      <td>2015/12</td>\n",
       "      <td>5608652.0</td>\n",
       "      <td>3.171870e+08</td>\n",
       "      <td>8.706929e+07</td>\n",
       "      <td>2.301177e+08</td>\n",
       "      <td>96579379.0</td>\n",
       "      <td>2.232013e+08</td>\n",
       "      <td>27931470.0</td>\n",
       "      <td>174195361.0</td>\n",
       "      <td>5608652.0</td>\n",
       "      <td>135014686.0</td>\n",
       "    </tr>\n",
       "    <tr>\n",
       "      <th>...</th>\n",
       "      <td>...</td>\n",
       "      <td>...</td>\n",
       "      <td>...</td>\n",
       "      <td>...</td>\n",
       "      <td>...</td>\n",
       "      <td>...</td>\n",
       "      <td>...</td>\n",
       "      <td>...</td>\n",
       "      <td>...</td>\n",
       "      <td>...</td>\n",
       "      <td>...</td>\n",
       "      <td>...</td>\n",
       "      <td>...</td>\n",
       "      <td>...</td>\n",
       "    </tr>\n",
       "    <tr>\n",
       "      <th>14515</th>\n",
       "      <td>3518</td>\n",
       "      <td>(주)삼양사</td>\n",
       "      <td>145990</td>\n",
       "      <td>2018/12</td>\n",
       "      <td>32154843.0</td>\n",
       "      <td>1.641119e+09</td>\n",
       "      <td>5.831729e+08</td>\n",
       "      <td>1.057946e+09</td>\n",
       "      <td>284374006.0</td>\n",
       "      <td>1.666024e+09</td>\n",
       "      <td>53299365.0</td>\n",
       "      <td>186717505.0</td>\n",
       "      <td>32154843.0</td>\n",
       "      <td>484074761.0</td>\n",
       "    </tr>\n",
       "    <tr>\n",
       "      <th>14516</th>\n",
       "      <td>3519</td>\n",
       "      <td>(주)삼양사</td>\n",
       "      <td>145990</td>\n",
       "      <td>2019/12</td>\n",
       "      <td>17107917.0</td>\n",
       "      <td>1.820282e+09</td>\n",
       "      <td>7.654362e+08</td>\n",
       "      <td>1.054845e+09</td>\n",
       "      <td>264677085.0</td>\n",
       "      <td>1.550801e+09</td>\n",
       "      <td>53299365.0</td>\n",
       "      <td>188660755.0</td>\n",
       "      <td>17107917.0</td>\n",
       "      <td>615294857.0</td>\n",
       "    </tr>\n",
       "    <tr>\n",
       "      <th>14517</th>\n",
       "      <td>3520</td>\n",
       "      <td>(주)삼양사</td>\n",
       "      <td>145990</td>\n",
       "      <td>2020/12</td>\n",
       "      <td>40327703.0</td>\n",
       "      <td>1.998094e+09</td>\n",
       "      <td>9.026038e+08</td>\n",
       "      <td>1.095490e+09</td>\n",
       "      <td>268608954.0</td>\n",
       "      <td>1.524770e+09</td>\n",
       "      <td>53417595.0</td>\n",
       "      <td>218530578.0</td>\n",
       "      <td>40327703.0</td>\n",
       "      <td>694106822.0</td>\n",
       "    </tr>\n",
       "    <tr>\n",
       "      <th>14518</th>\n",
       "      <td>3521</td>\n",
       "      <td>(주)삼양사</td>\n",
       "      <td>145990</td>\n",
       "      <td>2021/12</td>\n",
       "      <td>28905165.0</td>\n",
       "      <td>2.188296e+09</td>\n",
       "      <td>1.009385e+09</td>\n",
       "      <td>1.178911e+09</td>\n",
       "      <td>256507584.0</td>\n",
       "      <td>1.784425e+09</td>\n",
       "      <td>53417595.0</td>\n",
       "      <td>233204194.0</td>\n",
       "      <td>28905165.0</td>\n",
       "      <td>702758933.0</td>\n",
       "    </tr>\n",
       "    <tr>\n",
       "      <th>14519</th>\n",
       "      <td>3522</td>\n",
       "      <td>(주)삼양사</td>\n",
       "      <td>145990</td>\n",
       "      <td>2022/12</td>\n",
       "      <td>55711450.0</td>\n",
       "      <td>2.278458e+09</td>\n",
       "      <td>1.056955e+09</td>\n",
       "      <td>1.221503e+09</td>\n",
       "      <td>290041366.0</td>\n",
       "      <td>1.998768e+09</td>\n",
       "      <td>53417595.0</td>\n",
       "      <td>287457380.0</td>\n",
       "      <td>55711450.0</td>\n",
       "      <td>807549671.0</td>\n",
       "    </tr>\n",
       "  </tbody>\n",
       "</table>\n",
       "<p>14508 rows × 14 columns</p>\n",
       "</div>"
      ],
      "text/plain": [
       "       Unnamed: 0      회사명    종목코드       날짜       당기순이익            자산  \\\n",
       "0           14568  동화약품(주)      20  2011/12  17679223.0  3.394315e+08   \n",
       "1           14569  동화약품(주)      20  2012/12   1311241.0  3.242847e+08   \n",
       "2           14570  동화약품(주)      20  2013/12   1011860.0  3.161655e+08   \n",
       "3           14571  동화약품(주)      20  2014/12   4937205.0  3.130731e+08   \n",
       "4           14572  동화약품(주)      20  2015/12   5608652.0  3.171870e+08   \n",
       "...           ...      ...     ...      ...         ...           ...   \n",
       "14515        3518   (주)삼양사  145990  2018/12  32154843.0  1.641119e+09   \n",
       "14516        3519   (주)삼양사  145990  2019/12  17107917.0  1.820282e+09   \n",
       "14517        3520   (주)삼양사  145990  2020/12  40327703.0  1.998094e+09   \n",
       "14518        3521   (주)삼양사  145990  2021/12  28905165.0  2.188296e+09   \n",
       "14519        3522   (주)삼양사  145990  2022/12  55711450.0  2.278458e+09   \n",
       "\n",
       "                 부채           자본금        이익잉여금           매출액       매출총이익  \\\n",
       "0      1.098076e+08  2.296239e+08  107930253.0  2.345620e+08  27931470.0   \n",
       "1      9.729000e+07  2.269947e+08   98772674.0  2.233720e+08  27931470.0   \n",
       "2      8.893441e+07  2.272311e+08   95673706.0  2.202406e+08  27931470.0   \n",
       "3      8.334732e+07  2.297258e+08   95203910.0  2.134721e+08  27931470.0   \n",
       "4      8.706929e+07  2.301177e+08   96579379.0  2.232013e+08  27931470.0   \n",
       "...             ...           ...          ...           ...         ...   \n",
       "14515  5.831729e+08  1.057946e+09  284374006.0  1.666024e+09  53299365.0   \n",
       "14516  7.654362e+08  1.054845e+09  264677085.0  1.550801e+09  53299365.0   \n",
       "14517  9.026038e+08  1.095490e+09  268608954.0  1.524770e+09  53417595.0   \n",
       "14518  1.009385e+09  1.178911e+09  256507584.0  1.784425e+09  53417595.0   \n",
       "14519  1.056955e+09  1.221503e+09  290041366.0  1.998768e+09  53417595.0   \n",
       "\n",
       "              영업이익          자본         유동자산  \n",
       "0      172752303.0  17679223.0  132321355.0  \n",
       "1      169661268.0   1311241.0  121235712.0  \n",
       "2      170147330.0   1011860.0  116759938.0  \n",
       "3      173103713.0   4937205.0  120547703.0  \n",
       "4      174195361.0   5608652.0  135014686.0  \n",
       "...            ...         ...          ...  \n",
       "14515  186717505.0  32154843.0  484074761.0  \n",
       "14516  188660755.0  17107917.0  615294857.0  \n",
       "14517  218530578.0  40327703.0  694106822.0  \n",
       "14518  233204194.0  28905165.0  702758933.0  \n",
       "14519  287457380.0  55711450.0  807549671.0  \n",
       "\n",
       "[14508 rows x 14 columns]"
      ]
     },
     "execution_count": 71,
     "metadata": {},
     "output_type": "execute_result"
    }
   ],
   "source": [
    "for i in tqdm(zero_list):\n",
    "    fsdata_zero = fsdata_zero.drop(fsdata_zero[fsdata_zero['종목코드']==i].index, axis=0)\n",
    "\n",
    "fsdata_zero"
   ]
  },
  {
   "cell_type": "markdown",
   "metadata": {},
   "source": [
    "### 결측치 존재하는 거래소코드 제거"
   ]
  },
  {
   "cell_type": "code",
   "execution_count": 72,
   "metadata": {},
   "outputs": [],
   "source": [
    "fsdata_na = fsdata_zero.copy()"
   ]
  },
  {
   "cell_type": "code",
   "execution_count": 73,
   "metadata": {},
   "outputs": [
    {
     "data": {
      "text/plain": [
       "[122350, 122690, 123410, 123420, 123840, 126700, 131030, 131370]"
      ]
     },
     "execution_count": 73,
     "metadata": {},
     "output_type": "execute_result"
    }
   ],
   "source": [
    "na_list = fsdata_na[fsdata_na.isna().any(axis=1)]['종목코드'].unique().tolist()\n",
    "na_list"
   ]
  },
  {
   "cell_type": "code",
   "execution_count": 74,
   "metadata": {},
   "outputs": [
    {
     "name": "stderr",
     "output_type": "stream",
     "text": [
      "100%|██████████| 8/8 [00:00<00:00, 170.86it/s]\n"
     ]
    },
    {
     "data": {
      "text/html": [
       "<div>\n",
       "<style scoped>\n",
       "    .dataframe tbody tr th:only-of-type {\n",
       "        vertical-align: middle;\n",
       "    }\n",
       "\n",
       "    .dataframe tbody tr th {\n",
       "        vertical-align: top;\n",
       "    }\n",
       "\n",
       "    .dataframe thead th {\n",
       "        text-align: right;\n",
       "    }\n",
       "</style>\n",
       "<table border=\"1\" class=\"dataframe\">\n",
       "  <thead>\n",
       "    <tr style=\"text-align: right;\">\n",
       "      <th></th>\n",
       "      <th>Unnamed: 0</th>\n",
       "      <th>회사명</th>\n",
       "      <th>종목코드</th>\n",
       "      <th>날짜</th>\n",
       "      <th>당기순이익</th>\n",
       "      <th>자산</th>\n",
       "      <th>부채</th>\n",
       "      <th>자본금</th>\n",
       "      <th>이익잉여금</th>\n",
       "      <th>매출액</th>\n",
       "      <th>매출총이익</th>\n",
       "      <th>영업이익</th>\n",
       "      <th>자본</th>\n",
       "      <th>유동자산</th>\n",
       "    </tr>\n",
       "  </thead>\n",
       "  <tbody>\n",
       "    <tr>\n",
       "      <th>0</th>\n",
       "      <td>14568</td>\n",
       "      <td>동화약품(주)</td>\n",
       "      <td>20</td>\n",
       "      <td>2011/12</td>\n",
       "      <td>17679223.0</td>\n",
       "      <td>3.394315e+08</td>\n",
       "      <td>1.098076e+08</td>\n",
       "      <td>2.296239e+08</td>\n",
       "      <td>107930253.0</td>\n",
       "      <td>2.345620e+08</td>\n",
       "      <td>27931470.0</td>\n",
       "      <td>172752303.0</td>\n",
       "      <td>17679223.0</td>\n",
       "      <td>132321355.0</td>\n",
       "    </tr>\n",
       "    <tr>\n",
       "      <th>1</th>\n",
       "      <td>14569</td>\n",
       "      <td>동화약품(주)</td>\n",
       "      <td>20</td>\n",
       "      <td>2012/12</td>\n",
       "      <td>1311241.0</td>\n",
       "      <td>3.242847e+08</td>\n",
       "      <td>9.729000e+07</td>\n",
       "      <td>2.269947e+08</td>\n",
       "      <td>98772674.0</td>\n",
       "      <td>2.233720e+08</td>\n",
       "      <td>27931470.0</td>\n",
       "      <td>169661268.0</td>\n",
       "      <td>1311241.0</td>\n",
       "      <td>121235712.0</td>\n",
       "    </tr>\n",
       "    <tr>\n",
       "      <th>2</th>\n",
       "      <td>14570</td>\n",
       "      <td>동화약품(주)</td>\n",
       "      <td>20</td>\n",
       "      <td>2013/12</td>\n",
       "      <td>1011860.0</td>\n",
       "      <td>3.161655e+08</td>\n",
       "      <td>8.893441e+07</td>\n",
       "      <td>2.272311e+08</td>\n",
       "      <td>95673706.0</td>\n",
       "      <td>2.202406e+08</td>\n",
       "      <td>27931470.0</td>\n",
       "      <td>170147330.0</td>\n",
       "      <td>1011860.0</td>\n",
       "      <td>116759938.0</td>\n",
       "    </tr>\n",
       "    <tr>\n",
       "      <th>3</th>\n",
       "      <td>14571</td>\n",
       "      <td>동화약품(주)</td>\n",
       "      <td>20</td>\n",
       "      <td>2014/12</td>\n",
       "      <td>4937205.0</td>\n",
       "      <td>3.130731e+08</td>\n",
       "      <td>8.334732e+07</td>\n",
       "      <td>2.297258e+08</td>\n",
       "      <td>95203910.0</td>\n",
       "      <td>2.134721e+08</td>\n",
       "      <td>27931470.0</td>\n",
       "      <td>173103713.0</td>\n",
       "      <td>4937205.0</td>\n",
       "      <td>120547703.0</td>\n",
       "    </tr>\n",
       "    <tr>\n",
       "      <th>4</th>\n",
       "      <td>14572</td>\n",
       "      <td>동화약품(주)</td>\n",
       "      <td>20</td>\n",
       "      <td>2015/12</td>\n",
       "      <td>5608652.0</td>\n",
       "      <td>3.171870e+08</td>\n",
       "      <td>8.706929e+07</td>\n",
       "      <td>2.301177e+08</td>\n",
       "      <td>96579379.0</td>\n",
       "      <td>2.232013e+08</td>\n",
       "      <td>27931470.0</td>\n",
       "      <td>174195361.0</td>\n",
       "      <td>5608652.0</td>\n",
       "      <td>135014686.0</td>\n",
       "    </tr>\n",
       "    <tr>\n",
       "      <th>...</th>\n",
       "      <td>...</td>\n",
       "      <td>...</td>\n",
       "      <td>...</td>\n",
       "      <td>...</td>\n",
       "      <td>...</td>\n",
       "      <td>...</td>\n",
       "      <td>...</td>\n",
       "      <td>...</td>\n",
       "      <td>...</td>\n",
       "      <td>...</td>\n",
       "      <td>...</td>\n",
       "      <td>...</td>\n",
       "      <td>...</td>\n",
       "      <td>...</td>\n",
       "    </tr>\n",
       "    <tr>\n",
       "      <th>14515</th>\n",
       "      <td>3518</td>\n",
       "      <td>(주)삼양사</td>\n",
       "      <td>145990</td>\n",
       "      <td>2018/12</td>\n",
       "      <td>32154843.0</td>\n",
       "      <td>1.641119e+09</td>\n",
       "      <td>5.831729e+08</td>\n",
       "      <td>1.057946e+09</td>\n",
       "      <td>284374006.0</td>\n",
       "      <td>1.666024e+09</td>\n",
       "      <td>53299365.0</td>\n",
       "      <td>186717505.0</td>\n",
       "      <td>32154843.0</td>\n",
       "      <td>484074761.0</td>\n",
       "    </tr>\n",
       "    <tr>\n",
       "      <th>14516</th>\n",
       "      <td>3519</td>\n",
       "      <td>(주)삼양사</td>\n",
       "      <td>145990</td>\n",
       "      <td>2019/12</td>\n",
       "      <td>17107917.0</td>\n",
       "      <td>1.820282e+09</td>\n",
       "      <td>7.654362e+08</td>\n",
       "      <td>1.054845e+09</td>\n",
       "      <td>264677085.0</td>\n",
       "      <td>1.550801e+09</td>\n",
       "      <td>53299365.0</td>\n",
       "      <td>188660755.0</td>\n",
       "      <td>17107917.0</td>\n",
       "      <td>615294857.0</td>\n",
       "    </tr>\n",
       "    <tr>\n",
       "      <th>14517</th>\n",
       "      <td>3520</td>\n",
       "      <td>(주)삼양사</td>\n",
       "      <td>145990</td>\n",
       "      <td>2020/12</td>\n",
       "      <td>40327703.0</td>\n",
       "      <td>1.998094e+09</td>\n",
       "      <td>9.026038e+08</td>\n",
       "      <td>1.095490e+09</td>\n",
       "      <td>268608954.0</td>\n",
       "      <td>1.524770e+09</td>\n",
       "      <td>53417595.0</td>\n",
       "      <td>218530578.0</td>\n",
       "      <td>40327703.0</td>\n",
       "      <td>694106822.0</td>\n",
       "    </tr>\n",
       "    <tr>\n",
       "      <th>14518</th>\n",
       "      <td>3521</td>\n",
       "      <td>(주)삼양사</td>\n",
       "      <td>145990</td>\n",
       "      <td>2021/12</td>\n",
       "      <td>28905165.0</td>\n",
       "      <td>2.188296e+09</td>\n",
       "      <td>1.009385e+09</td>\n",
       "      <td>1.178911e+09</td>\n",
       "      <td>256507584.0</td>\n",
       "      <td>1.784425e+09</td>\n",
       "      <td>53417595.0</td>\n",
       "      <td>233204194.0</td>\n",
       "      <td>28905165.0</td>\n",
       "      <td>702758933.0</td>\n",
       "    </tr>\n",
       "    <tr>\n",
       "      <th>14519</th>\n",
       "      <td>3522</td>\n",
       "      <td>(주)삼양사</td>\n",
       "      <td>145990</td>\n",
       "      <td>2022/12</td>\n",
       "      <td>55711450.0</td>\n",
       "      <td>2.278458e+09</td>\n",
       "      <td>1.056955e+09</td>\n",
       "      <td>1.221503e+09</td>\n",
       "      <td>290041366.0</td>\n",
       "      <td>1.998768e+09</td>\n",
       "      <td>53417595.0</td>\n",
       "      <td>287457380.0</td>\n",
       "      <td>55711450.0</td>\n",
       "      <td>807549671.0</td>\n",
       "    </tr>\n",
       "  </tbody>\n",
       "</table>\n",
       "<p>14412 rows × 14 columns</p>\n",
       "</div>"
      ],
      "text/plain": [
       "       Unnamed: 0      회사명    종목코드       날짜       당기순이익            자산  \\\n",
       "0           14568  동화약품(주)      20  2011/12  17679223.0  3.394315e+08   \n",
       "1           14569  동화약품(주)      20  2012/12   1311241.0  3.242847e+08   \n",
       "2           14570  동화약품(주)      20  2013/12   1011860.0  3.161655e+08   \n",
       "3           14571  동화약품(주)      20  2014/12   4937205.0  3.130731e+08   \n",
       "4           14572  동화약품(주)      20  2015/12   5608652.0  3.171870e+08   \n",
       "...           ...      ...     ...      ...         ...           ...   \n",
       "14515        3518   (주)삼양사  145990  2018/12  32154843.0  1.641119e+09   \n",
       "14516        3519   (주)삼양사  145990  2019/12  17107917.0  1.820282e+09   \n",
       "14517        3520   (주)삼양사  145990  2020/12  40327703.0  1.998094e+09   \n",
       "14518        3521   (주)삼양사  145990  2021/12  28905165.0  2.188296e+09   \n",
       "14519        3522   (주)삼양사  145990  2022/12  55711450.0  2.278458e+09   \n",
       "\n",
       "                 부채           자본금        이익잉여금           매출액       매출총이익  \\\n",
       "0      1.098076e+08  2.296239e+08  107930253.0  2.345620e+08  27931470.0   \n",
       "1      9.729000e+07  2.269947e+08   98772674.0  2.233720e+08  27931470.0   \n",
       "2      8.893441e+07  2.272311e+08   95673706.0  2.202406e+08  27931470.0   \n",
       "3      8.334732e+07  2.297258e+08   95203910.0  2.134721e+08  27931470.0   \n",
       "4      8.706929e+07  2.301177e+08   96579379.0  2.232013e+08  27931470.0   \n",
       "...             ...           ...          ...           ...         ...   \n",
       "14515  5.831729e+08  1.057946e+09  284374006.0  1.666024e+09  53299365.0   \n",
       "14516  7.654362e+08  1.054845e+09  264677085.0  1.550801e+09  53299365.0   \n",
       "14517  9.026038e+08  1.095490e+09  268608954.0  1.524770e+09  53417595.0   \n",
       "14518  1.009385e+09  1.178911e+09  256507584.0  1.784425e+09  53417595.0   \n",
       "14519  1.056955e+09  1.221503e+09  290041366.0  1.998768e+09  53417595.0   \n",
       "\n",
       "              영업이익          자본         유동자산  \n",
       "0      172752303.0  17679223.0  132321355.0  \n",
       "1      169661268.0   1311241.0  121235712.0  \n",
       "2      170147330.0   1011860.0  116759938.0  \n",
       "3      173103713.0   4937205.0  120547703.0  \n",
       "4      174195361.0   5608652.0  135014686.0  \n",
       "...            ...         ...          ...  \n",
       "14515  186717505.0  32154843.0  484074761.0  \n",
       "14516  188660755.0  17107917.0  615294857.0  \n",
       "14517  218530578.0  40327703.0  694106822.0  \n",
       "14518  233204194.0  28905165.0  702758933.0  \n",
       "14519  287457380.0  55711450.0  807549671.0  \n",
       "\n",
       "[14412 rows x 14 columns]"
      ]
     },
     "execution_count": 74,
     "metadata": {},
     "output_type": "execute_result"
    }
   ],
   "source": [
    "for i in tqdm(na_list):\n",
    "    fsdata_na = fsdata_na.drop(fsdata_na[fsdata_na['종목코드']==i].index, axis=0)\n",
    "\n",
    "fsdata_na"
   ]
  },
  {
   "cell_type": "code",
   "execution_count": 75,
   "metadata": {},
   "outputs": [
    {
     "data": {
      "text/plain": [
       "Unnamed: 0    0\n",
       "회사명           0\n",
       "종목코드          0\n",
       "날짜            0\n",
       "당기순이익         0\n",
       "자산            0\n",
       "부채            0\n",
       "자본금           0\n",
       "이익잉여금         0\n",
       "매출액           0\n",
       "매출총이익         0\n",
       "영업이익          0\n",
       "자본            0\n",
       "유동자산          0\n",
       "dtype: int64"
      ]
     },
     "execution_count": 75,
     "metadata": {},
     "output_type": "execute_result"
    }
   ],
   "source": [
    "fsdata_na.isna().sum()"
   ]
  },
  {
   "cell_type": "code",
   "execution_count": 76,
   "metadata": {},
   "outputs": [],
   "source": [
    "fsdata_cal = fsdata_na.copy()"
   ]
  },
  {
   "cell_type": "code",
   "execution_count": 77,
   "metadata": {},
   "outputs": [],
   "source": [
    "fsdata_cal.to_csv('fs_ver_1.2.csv')"
   ]
  },
  {
   "cell_type": "markdown",
   "metadata": {},
   "source": [
    "### 재무비율 계산"
   ]
  },
  {
   "cell_type": "code",
   "execution_count": 81,
   "metadata": {},
   "outputs": [
    {
     "data": {
      "text/plain": [
       "Index(['회사명', '종목코드', '날짜', '당기순이익', '자산', '부채', '자본금', '이익잉여금', '매출액',\n",
       "       '매출총이익', '영업이익', '자본', '유동자산'],\n",
       "      dtype='object')"
      ]
     },
     "execution_count": 81,
     "metadata": {},
     "output_type": "execute_result"
    }
   ],
   "source": [
    "fsdata_cal.columns"
   ]
  },
  {
   "cell_type": "code",
   "execution_count": 80,
   "metadata": {},
   "outputs": [],
   "source": [
    "fsdata_cal.drop('Unnamed: 0', axis=1, inplace=True)"
   ]
  },
  {
   "cell_type": "code",
   "execution_count": 82,
   "metadata": {},
   "outputs": [],
   "source": [
    "fsdata_cal = fsdata_cal.groupby('종목코드').apply(lambda group : group.sort_values(by='날짜')).reset_index(drop=True)\n"
   ]
  },
  {
   "cell_type": "code",
   "execution_count": 83,
   "metadata": {},
   "outputs": [
    {
     "data": {
      "text/html": [
       "<div>\n",
       "<style scoped>\n",
       "    .dataframe tbody tr th:only-of-type {\n",
       "        vertical-align: middle;\n",
       "    }\n",
       "\n",
       "    .dataframe tbody tr th {\n",
       "        vertical-align: top;\n",
       "    }\n",
       "\n",
       "    .dataframe thead th {\n",
       "        text-align: right;\n",
       "    }\n",
       "</style>\n",
       "<table border=\"1\" class=\"dataframe\">\n",
       "  <thead>\n",
       "    <tr style=\"text-align: right;\">\n",
       "      <th></th>\n",
       "      <th>회사명</th>\n",
       "      <th>종목코드</th>\n",
       "      <th>날짜</th>\n",
       "      <th>당기순이익</th>\n",
       "      <th>자산</th>\n",
       "      <th>부채</th>\n",
       "      <th>자본금</th>\n",
       "      <th>이익잉여금</th>\n",
       "      <th>매출액</th>\n",
       "      <th>매출총이익</th>\n",
       "      <th>영업이익</th>\n",
       "      <th>자본</th>\n",
       "      <th>유동자산</th>\n",
       "    </tr>\n",
       "  </thead>\n",
       "  <tbody>\n",
       "    <tr>\n",
       "      <th>0</th>\n",
       "      <td>동화약품(주)</td>\n",
       "      <td>20</td>\n",
       "      <td>2011/12</td>\n",
       "      <td>17679223.0</td>\n",
       "      <td>339431477.0</td>\n",
       "      <td>109807603.0</td>\n",
       "      <td>229623874.0</td>\n",
       "      <td>107930253.0</td>\n",
       "      <td>234561984.0</td>\n",
       "      <td>27931470.0</td>\n",
       "      <td>172752303.0</td>\n",
       "      <td>17679223.0</td>\n",
       "      <td>132321355.0</td>\n",
       "    </tr>\n",
       "    <tr>\n",
       "      <th>1</th>\n",
       "      <td>동화약품(주)</td>\n",
       "      <td>20</td>\n",
       "      <td>2012/12</td>\n",
       "      <td>1311241.0</td>\n",
       "      <td>324284672.0</td>\n",
       "      <td>97290002.0</td>\n",
       "      <td>226994670.0</td>\n",
       "      <td>98772674.0</td>\n",
       "      <td>223371997.0</td>\n",
       "      <td>27931470.0</td>\n",
       "      <td>169661268.0</td>\n",
       "      <td>1311241.0</td>\n",
       "      <td>121235712.0</td>\n",
       "    </tr>\n",
       "    <tr>\n",
       "      <th>2</th>\n",
       "      <td>동화약품(주)</td>\n",
       "      <td>20</td>\n",
       "      <td>2013/12</td>\n",
       "      <td>1011860.0</td>\n",
       "      <td>316165541.0</td>\n",
       "      <td>88934413.0</td>\n",
       "      <td>227231127.0</td>\n",
       "      <td>95673706.0</td>\n",
       "      <td>220240575.0</td>\n",
       "      <td>27931470.0</td>\n",
       "      <td>170147330.0</td>\n",
       "      <td>1011860.0</td>\n",
       "      <td>116759938.0</td>\n",
       "    </tr>\n",
       "    <tr>\n",
       "      <th>3</th>\n",
       "      <td>동화약품(주)</td>\n",
       "      <td>20</td>\n",
       "      <td>2014/12</td>\n",
       "      <td>4937205.0</td>\n",
       "      <td>313073100.0</td>\n",
       "      <td>83347317.0</td>\n",
       "      <td>229725782.0</td>\n",
       "      <td>95203910.0</td>\n",
       "      <td>213472145.0</td>\n",
       "      <td>27931470.0</td>\n",
       "      <td>173103713.0</td>\n",
       "      <td>4937205.0</td>\n",
       "      <td>120547703.0</td>\n",
       "    </tr>\n",
       "    <tr>\n",
       "      <th>4</th>\n",
       "      <td>동화약품(주)</td>\n",
       "      <td>20</td>\n",
       "      <td>2015/12</td>\n",
       "      <td>5608652.0</td>\n",
       "      <td>317187030.0</td>\n",
       "      <td>87069288.0</td>\n",
       "      <td>230117742.0</td>\n",
       "      <td>96579379.0</td>\n",
       "      <td>223201285.0</td>\n",
       "      <td>27931470.0</td>\n",
       "      <td>174195361.0</td>\n",
       "      <td>5608652.0</td>\n",
       "      <td>135014686.0</td>\n",
       "    </tr>\n",
       "  </tbody>\n",
       "</table>\n",
       "</div>"
      ],
      "text/plain": [
       "       회사명  종목코드       날짜       당기순이익           자산           부채          자본금  \\\n",
       "0  동화약품(주)    20  2011/12  17679223.0  339431477.0  109807603.0  229623874.0   \n",
       "1  동화약품(주)    20  2012/12   1311241.0  324284672.0   97290002.0  226994670.0   \n",
       "2  동화약품(주)    20  2013/12   1011860.0  316165541.0   88934413.0  227231127.0   \n",
       "3  동화약품(주)    20  2014/12   4937205.0  313073100.0   83347317.0  229725782.0   \n",
       "4  동화약품(주)    20  2015/12   5608652.0  317187030.0   87069288.0  230117742.0   \n",
       "\n",
       "         이익잉여금          매출액       매출총이익         영업이익          자본         유동자산  \n",
       "0  107930253.0  234561984.0  27931470.0  172752303.0  17679223.0  132321355.0  \n",
       "1   98772674.0  223371997.0  27931470.0  169661268.0   1311241.0  121235712.0  \n",
       "2   95673706.0  220240575.0  27931470.0  170147330.0   1011860.0  116759938.0  \n",
       "3   95203910.0  213472145.0  27931470.0  173103713.0   4937205.0  120547703.0  \n",
       "4   96579379.0  223201285.0  27931470.0  174195361.0   5608652.0  135014686.0  "
      ]
     },
     "execution_count": 83,
     "metadata": {},
     "output_type": "execute_result"
    }
   ],
   "source": [
    "fsdata_cal.head()"
   ]
  },
  {
   "cell_type": "code",
   "execution_count": 84,
   "metadata": {},
   "outputs": [],
   "source": [
    "fsdata_cal['ROA'] = fsdata_cal['당기순이익'] / fsdata_cal['자산']\n",
    "fsdata_cal['자산회전율'] = fsdata_cal['매출액'] / fsdata_cal['자산']\n",
    "fsdata_cal['매출액영업이익률'] = fsdata_cal['영업이익'] / fsdata_cal['매출액'] * 100\n",
    "fsdata_cal['매출총이익률'] = fsdata_cal['매출총이익'] / fsdata_cal['매출액'] * 100"
   ]
  },
  {
   "cell_type": "code",
   "execution_count": 85,
   "metadata": {},
   "outputs": [],
   "source": [
    "fsdata_cal['매출액증가율'] = fsdata_cal['매출액'].pct_change()\n",
    "fsdata_cal['영업이익증가율'] = fsdata_cal['영업이익'].pct_change()\n",
    "fsdata_cal['순이익증가율'] = fsdata_cal['당기순이익'].pct_change()\n",
    "fsdata_cal['총자본증가율'] = fsdata_cal['자본'].pct_change()"
   ]
  },
  {
   "cell_type": "code",
   "execution_count": 87,
   "metadata": {},
   "outputs": [],
   "source": [
    "fsdata_cal = fsdata_cal.drop(fsdata_cal[fsdata_cal['날짜'] == '2011/12'].index, axis=0)"
   ]
  },
  {
   "cell_type": "code",
   "execution_count": 88,
   "metadata": {},
   "outputs": [
    {
     "data": {
      "text/html": [
       "<div>\n",
       "<style scoped>\n",
       "    .dataframe tbody tr th:only-of-type {\n",
       "        vertical-align: middle;\n",
       "    }\n",
       "\n",
       "    .dataframe tbody tr th {\n",
       "        vertical-align: top;\n",
       "    }\n",
       "\n",
       "    .dataframe thead th {\n",
       "        text-align: right;\n",
       "    }\n",
       "</style>\n",
       "<table border=\"1\" class=\"dataframe\">\n",
       "  <thead>\n",
       "    <tr style=\"text-align: right;\">\n",
       "      <th></th>\n",
       "      <th>회사명</th>\n",
       "      <th>종목코드</th>\n",
       "      <th>날짜</th>\n",
       "      <th>당기순이익</th>\n",
       "      <th>자산</th>\n",
       "      <th>부채</th>\n",
       "      <th>자본금</th>\n",
       "      <th>이익잉여금</th>\n",
       "      <th>매출액</th>\n",
       "      <th>매출총이익</th>\n",
       "      <th>...</th>\n",
       "      <th>자본</th>\n",
       "      <th>유동자산</th>\n",
       "      <th>ROA</th>\n",
       "      <th>자산회전율</th>\n",
       "      <th>매출액영업이익률</th>\n",
       "      <th>매출총이익률</th>\n",
       "      <th>매출액증가율</th>\n",
       "      <th>영업이익증가율</th>\n",
       "      <th>순이익증가율</th>\n",
       "      <th>총자본증가율</th>\n",
       "    </tr>\n",
       "  </thead>\n",
       "  <tbody>\n",
       "  </tbody>\n",
       "</table>\n",
       "<p>0 rows × 21 columns</p>\n",
       "</div>"
      ],
      "text/plain": [
       "Empty DataFrame\n",
       "Columns: [회사명, 종목코드, 날짜, 당기순이익, 자산, 부채, 자본금, 이익잉여금, 매출액, 매출총이익, 영업이익, 자본, 유동자산, ROA, 자산회전율, 매출액영업이익률, 매출총이익률, 매출액증가율, 영업이익증가율, 순이익증가율, 총자본증가율]\n",
       "Index: []\n",
       "\n",
       "[0 rows x 21 columns]"
      ]
     },
     "execution_count": 88,
     "metadata": {},
     "output_type": "execute_result"
    }
   ],
   "source": [
    "fsdata_cal[fsdata_cal['날짜'] == '2011/12']"
   ]
  },
  {
   "cell_type": "code",
   "execution_count": 89,
   "metadata": {},
   "outputs": [],
   "source": [
    "fsdata_cal.to_csv('fs_ver_2.0.csv')\n",
    "\n",
    "# 나머지 시가총액대비 비율계산 요망 (PBR, PER, PSR) + 부채비율 추가해야함"
   ]
  },
  {
   "cell_type": "code",
   "execution_count": 90,
   "metadata": {},
   "outputs": [],
   "source": [
    "fsdata_cal['부채비율'] = fsdata_cal['부채']/ fsdata_cal['자본']"
   ]
  },
  {
   "cell_type": "markdown",
   "metadata": {},
   "source": [
    "### 아마도 최종_fs데이터 종목코드로 price데이터에 filtering"
   ]
  },
  {
   "cell_type": "code",
   "execution_count": 236,
   "metadata": {},
   "outputs": [
    {
     "data": {
      "text/plain": [
       "1204"
      ]
     },
     "execution_count": 236,
     "metadata": {},
     "output_type": "execute_result"
    }
   ],
   "source": [
    "fs_list = fsdata_cal['종목코드'].unique().tolist()\n"
   ]
  },
  {
   "cell_type": "code",
   "execution_count": 70,
   "metadata": {},
   "outputs": [],
   "source": [
    "data = pd.read_csv('fs_ver_3.0.csv')"
   ]
  },
  {
   "cell_type": "code",
   "execution_count": 72,
   "metadata": {},
   "outputs": [
    {
     "name": "stdout",
     "output_type": "stream",
     "text": [
      "<class 'pandas.core.frame.DataFrame'>\n",
      "RangeIndex: 13211 entries, 0 to 13210\n",
      "Data columns (total 27 columns):\n",
      " #   Column      Non-Null Count  Dtype  \n",
      "---  ------      --------------  -----  \n",
      " 0   Unnamed: 0  13211 non-null  int64  \n",
      " 1   티커          13211 non-null  int64  \n",
      " 2   시가총액        13211 non-null  int64  \n",
      " 3   리밸런싱일       13211 non-null  object \n",
      " 4   회사명         13211 non-null  object \n",
      " 5   날짜          13211 non-null  object \n",
      " 6   당기순이익       13211 non-null  float64\n",
      " 7   자산          13211 non-null  float64\n",
      " 8   부채          13211 non-null  float64\n",
      " 9   자본금         13211 non-null  float64\n",
      " 10  이익잉여금       13211 non-null  float64\n",
      " 11  매출액         13211 non-null  float64\n",
      " 12  매출총이익       13211 non-null  float64\n",
      " 13  영업이익        13211 non-null  float64\n",
      " 14  자본          13211 non-null  float64\n",
      " 15  유동자산        13211 non-null  float64\n",
      " 16  ROA         13211 non-null  float64\n",
      " 17  자산회전율       13211 non-null  float64\n",
      " 18  매출액영업이익률    13211 non-null  float64\n",
      " 19  매출총이익률      13211 non-null  float64\n",
      " 20  매출액증가율      13211 non-null  float64\n",
      " 21  영업이익증가율     13211 non-null  float64\n",
      " 22  순이익증가율      13211 non-null  float64\n",
      " 23  총자본증가율      13211 non-null  float64\n",
      " 24  PER         13211 non-null  float64\n",
      " 25  PBR         13211 non-null  float64\n",
      " 26  PSR         13211 non-null  float64\n",
      "dtypes: float64(21), int64(3), object(3)\n",
      "memory usage: 2.7+ MB\n"
     ]
    }
   ],
   "source": [
    "data.info()"
   ]
  },
  {
   "cell_type": "code",
   "execution_count": 239,
   "metadata": {},
   "outputs": [
    {
     "name": "stderr",
     "output_type": "stream",
     "text": [
      "  1%|          | 9/1204 [00:00<00:14, 81.42it/s]"
     ]
    },
    {
     "name": "stderr",
     "output_type": "stream",
     "text": [
      "100%|██████████| 1204/1204 [01:52<00:00, 10.73it/s]\n"
     ]
    },
    {
     "data": {
      "text/html": [
       "<div>\n",
       "<style scoped>\n",
       "    .dataframe tbody tr th:only-of-type {\n",
       "        vertical-align: middle;\n",
       "    }\n",
       "\n",
       "    .dataframe tbody tr th {\n",
       "        vertical-align: top;\n",
       "    }\n",
       "\n",
       "    .dataframe thead th {\n",
       "        text-align: right;\n",
       "    }\n",
       "</style>\n",
       "<table border=\"1\" class=\"dataframe\">\n",
       "  <thead>\n",
       "    <tr style=\"text-align: right;\">\n",
       "      <th></th>\n",
       "      <th>Unnamed: 0</th>\n",
       "      <th>Unnamed: 0.1</th>\n",
       "      <th>날짜</th>\n",
       "      <th>시가</th>\n",
       "      <th>고가</th>\n",
       "      <th>저가</th>\n",
       "      <th>종가</th>\n",
       "      <th>거래량</th>\n",
       "      <th>종목코드</th>\n",
       "    </tr>\n",
       "  </thead>\n",
       "  <tbody>\n",
       "    <tr>\n",
       "      <th>0</th>\n",
       "      <td>0</td>\n",
       "      <td>0</td>\n",
       "      <td>2012-10-25</td>\n",
       "      <td>6500.0</td>\n",
       "      <td>6560.0</td>\n",
       "      <td>6300.0</td>\n",
       "      <td>6340.0</td>\n",
       "      <td>243931.0</td>\n",
       "      <td>20</td>\n",
       "    </tr>\n",
       "    <tr>\n",
       "      <th>1</th>\n",
       "      <td>1</td>\n",
       "      <td>1488</td>\n",
       "      <td>2012-10-26</td>\n",
       "      <td>6340.0</td>\n",
       "      <td>6410.0</td>\n",
       "      <td>6110.0</td>\n",
       "      <td>6200.0</td>\n",
       "      <td>503636.0</td>\n",
       "      <td>20</td>\n",
       "    </tr>\n",
       "    <tr>\n",
       "      <th>2</th>\n",
       "      <td>2</td>\n",
       "      <td>2976</td>\n",
       "      <td>2012-10-29</td>\n",
       "      <td>6150.0</td>\n",
       "      <td>6400.0</td>\n",
       "      <td>6060.0</td>\n",
       "      <td>6270.0</td>\n",
       "      <td>191814.0</td>\n",
       "      <td>20</td>\n",
       "    </tr>\n",
       "    <tr>\n",
       "      <th>3</th>\n",
       "      <td>3</td>\n",
       "      <td>4464</td>\n",
       "      <td>2012-10-30</td>\n",
       "      <td>6220.0</td>\n",
       "      <td>6440.0</td>\n",
       "      <td>6220.0</td>\n",
       "      <td>6390.0</td>\n",
       "      <td>66578.0</td>\n",
       "      <td>20</td>\n",
       "    </tr>\n",
       "    <tr>\n",
       "      <th>4</th>\n",
       "      <td>4</td>\n",
       "      <td>5952</td>\n",
       "      <td>2012-10-31</td>\n",
       "      <td>6440.0</td>\n",
       "      <td>6590.0</td>\n",
       "      <td>6410.0</td>\n",
       "      <td>6500.0</td>\n",
       "      <td>378777.0</td>\n",
       "      <td>20</td>\n",
       "    </tr>\n",
       "    <tr>\n",
       "      <th>...</th>\n",
       "      <td>...</td>\n",
       "      <td>...</td>\n",
       "      <td>...</td>\n",
       "      <td>...</td>\n",
       "      <td>...</td>\n",
       "      <td>...</td>\n",
       "      <td>...</td>\n",
       "      <td>...</td>\n",
       "      <td>...</td>\n",
       "    </tr>\n",
       "    <tr>\n",
       "      <th>3615139</th>\n",
       "      <td>4039911</td>\n",
       "      <td>5173328</td>\n",
       "      <td>2023-10-19</td>\n",
       "      <td>36650.0</td>\n",
       "      <td>38350.0</td>\n",
       "      <td>36350.0</td>\n",
       "      <td>37650.0</td>\n",
       "      <td>376005.0</td>\n",
       "      <td>161390</td>\n",
       "    </tr>\n",
       "    <tr>\n",
       "      <th>3615140</th>\n",
       "      <td>4039912</td>\n",
       "      <td>5175707</td>\n",
       "      <td>2023-10-20</td>\n",
       "      <td>38100.0</td>\n",
       "      <td>38150.0</td>\n",
       "      <td>37000.0</td>\n",
       "      <td>37150.0</td>\n",
       "      <td>174096.0</td>\n",
       "      <td>161390</td>\n",
       "    </tr>\n",
       "    <tr>\n",
       "      <th>3615141</th>\n",
       "      <td>4039913</td>\n",
       "      <td>5178086</td>\n",
       "      <td>2023-10-23</td>\n",
       "      <td>37500.0</td>\n",
       "      <td>38300.0</td>\n",
       "      <td>36950.0</td>\n",
       "      <td>37700.0</td>\n",
       "      <td>237028.0</td>\n",
       "      <td>161390</td>\n",
       "    </tr>\n",
       "    <tr>\n",
       "      <th>3615142</th>\n",
       "      <td>4039914</td>\n",
       "      <td>5180465</td>\n",
       "      <td>2023-10-24</td>\n",
       "      <td>38650.0</td>\n",
       "      <td>38700.0</td>\n",
       "      <td>37000.0</td>\n",
       "      <td>37350.0</td>\n",
       "      <td>266571.0</td>\n",
       "      <td>161390</td>\n",
       "    </tr>\n",
       "    <tr>\n",
       "      <th>3615143</th>\n",
       "      <td>4039915</td>\n",
       "      <td>5182844</td>\n",
       "      <td>2023-10-25</td>\n",
       "      <td>37550.0</td>\n",
       "      <td>38050.0</td>\n",
       "      <td>37150.0</td>\n",
       "      <td>37550.0</td>\n",
       "      <td>114283.0</td>\n",
       "      <td>161390</td>\n",
       "    </tr>\n",
       "  </tbody>\n",
       "</table>\n",
       "<p>3257995 rows × 9 columns</p>\n",
       "</div>"
      ],
      "text/plain": [
       "         Unnamed: 0  Unnamed: 0.1          날짜       시가       고가       저가  \\\n",
       "0                 0             0  2012-10-25   6500.0   6560.0   6300.0   \n",
       "1                 1          1488  2012-10-26   6340.0   6410.0   6110.0   \n",
       "2                 2          2976  2012-10-29   6150.0   6400.0   6060.0   \n",
       "3                 3          4464  2012-10-30   6220.0   6440.0   6220.0   \n",
       "4                 4          5952  2012-10-31   6440.0   6590.0   6410.0   \n",
       "...             ...           ...         ...      ...      ...      ...   \n",
       "3615139     4039911       5173328  2023-10-19  36650.0  38350.0  36350.0   \n",
       "3615140     4039912       5175707  2023-10-20  38100.0  38150.0  37000.0   \n",
       "3615141     4039913       5178086  2023-10-23  37500.0  38300.0  36950.0   \n",
       "3615142     4039914       5180465  2023-10-24  38650.0  38700.0  37000.0   \n",
       "3615143     4039915       5182844  2023-10-25  37550.0  38050.0  37150.0   \n",
       "\n",
       "              종가       거래량    종목코드  \n",
       "0         6340.0  243931.0      20  \n",
       "1         6200.0  503636.0      20  \n",
       "2         6270.0  191814.0      20  \n",
       "3         6390.0   66578.0      20  \n",
       "4         6500.0  378777.0      20  \n",
       "...          ...       ...     ...  \n",
       "3615139  37650.0  376005.0  161390  \n",
       "3615140  37150.0  174096.0  161390  \n",
       "3615141  37700.0  237028.0  161390  \n",
       "3615142  37350.0  266571.0  161390  \n",
       "3615143  37550.0  114283.0  161390  \n",
       "\n",
       "[3257995 rows x 9 columns]"
      ]
     },
     "execution_count": 239,
     "metadata": {},
     "output_type": "execute_result"
    }
   ],
   "source": [
    "pricedata_filt = pd.DataFrame()\n",
    "\n",
    "for i in tqdm(fs_list):\n",
    "    pricedata_filt = pd.concat([pricedata_filt, pricedata[pricedata['종목코드']==i]])\n",
    "\n",
    "pricedata_filt"
   ]
  },
  {
   "cell_type": "code",
   "execution_count": 240,
   "metadata": {},
   "outputs": [
    {
     "data": {
      "text/plain": [
       "1204"
      ]
     },
     "execution_count": 240,
     "metadata": {},
     "output_type": "execute_result"
    }
   ],
   "source": [
    "len(pricedata_filt['종목코드'].unique())"
   ]
  },
  {
   "cell_type": "markdown",
   "metadata": {},
   "source": [
    "# 시가총액 데이터프레임 구해서 재무지표 추가"
   ]
  },
  {
   "cell_type": "code",
   "execution_count": 8,
   "metadata": {},
   "outputs": [],
   "source": [
    "# 시가총액 대비 칼럼 추가\n",
    "# 증가율에 100 곱하기\n",
    "\n",
    "import pandas as pd\n",
    "from tqdm import tqdm\n",
    "from pykrx import stock\n",
    "\n",
    "\n",
    "fsdata = pd.read_csv('fs_ver_2.0.csv')"
   ]
  },
  {
   "cell_type": "code",
   "execution_count": 9,
   "metadata": {},
   "outputs": [],
   "source": [
    "stock_code = fsdata['종목코드'].unique().tolist()\n",
    "date_list = ['2013-04-01', '2014-04-01', '2015-04-01', '2016-03-31', '2017-04-03', '2018-04-02', '2019-04-01', '2020-04-01', '2021-04-01', '2022-04-01', '2023-04-03']"
   ]
  },
  {
   "cell_type": "code",
   "execution_count": 10,
   "metadata": {},
   "outputs": [
    {
     "name": "stderr",
     "output_type": "stream",
     "text": [
      "100%|██████████| 11/11 [00:30<00:00,  2.75s/it]\n"
     ]
    }
   ],
   "source": [
    "result = pd.DataFrame()\n",
    "for date in tqdm(date_list):\n",
    "    date_data = stock.get_market_cap_by_ticker(date)\n",
    "    date_data['날짜'] = date\n",
    "    result = pd.concat([result, date_data], axis=0)\n"
   ]
  },
  {
   "cell_type": "code",
   "execution_count": 11,
   "metadata": {},
   "outputs": [
    {
     "data": {
      "text/html": [
       "<div>\n",
       "<style scoped>\n",
       "    .dataframe tbody tr th:only-of-type {\n",
       "        vertical-align: middle;\n",
       "    }\n",
       "\n",
       "    .dataframe tbody tr th {\n",
       "        vertical-align: top;\n",
       "    }\n",
       "\n",
       "    .dataframe thead th {\n",
       "        text-align: right;\n",
       "    }\n",
       "</style>\n",
       "<table border=\"1\" class=\"dataframe\">\n",
       "  <thead>\n",
       "    <tr style=\"text-align: right;\">\n",
       "      <th></th>\n",
       "      <th>종가</th>\n",
       "      <th>시가총액</th>\n",
       "      <th>거래량</th>\n",
       "      <th>거래대금</th>\n",
       "      <th>상장주식수</th>\n",
       "      <th>날짜</th>\n",
       "    </tr>\n",
       "    <tr>\n",
       "      <th>티커</th>\n",
       "      <th></th>\n",
       "      <th></th>\n",
       "      <th></th>\n",
       "      <th></th>\n",
       "      <th></th>\n",
       "      <th></th>\n",
       "    </tr>\n",
       "  </thead>\n",
       "  <tbody>\n",
       "    <tr>\n",
       "      <th>005930</th>\n",
       "      <td>1512000</td>\n",
       "      <td>222716597544000</td>\n",
       "      <td>105910</td>\n",
       "      <td>160876738000</td>\n",
       "      <td>147299337</td>\n",
       "      <td>2013-04-01</td>\n",
       "    </tr>\n",
       "    <tr>\n",
       "      <th>005380</th>\n",
       "      <td>222000</td>\n",
       "      <td>48901378338000</td>\n",
       "      <td>176622</td>\n",
       "      <td>39130504500</td>\n",
       "      <td>220276479</td>\n",
       "      <td>2013-04-01</td>\n",
       "    </tr>\n",
       "    <tr>\n",
       "      <th>012330</th>\n",
       "      <td>306000</td>\n",
       "      <td>29787222078000</td>\n",
       "      <td>104476</td>\n",
       "      <td>31961990000</td>\n",
       "      <td>97343863</td>\n",
       "      <td>2013-04-01</td>\n",
       "    </tr>\n",
       "    <tr>\n",
       "      <th>005490</th>\n",
       "      <td>325000</td>\n",
       "      <td>28335721375000</td>\n",
       "      <td>66523</td>\n",
       "      <td>21557368500</td>\n",
       "      <td>87186835</td>\n",
       "      <td>2013-04-01</td>\n",
       "    </tr>\n",
       "    <tr>\n",
       "      <th>000270</th>\n",
       "      <td>55100</td>\n",
       "      <td>22335520419700</td>\n",
       "      <td>1181176</td>\n",
       "      <td>64902836500</td>\n",
       "      <td>405363347</td>\n",
       "      <td>2013-04-01</td>\n",
       "    </tr>\n",
       "    <tr>\n",
       "      <th>...</th>\n",
       "      <td>...</td>\n",
       "      <td>...</td>\n",
       "      <td>...</td>\n",
       "      <td>...</td>\n",
       "      <td>...</td>\n",
       "      <td>...</td>\n",
       "    </tr>\n",
       "    <tr>\n",
       "      <th>288490</th>\n",
       "      <td>48</td>\n",
       "      <td>1831056000</td>\n",
       "      <td>35714</td>\n",
       "      <td>1782290</td>\n",
       "      <td>38147000</td>\n",
       "      <td>2023-04-03</td>\n",
       "    </tr>\n",
       "    <tr>\n",
       "      <th>267060</th>\n",
       "      <td>181</td>\n",
       "      <td>1654666524</td>\n",
       "      <td>0</td>\n",
       "      <td>0</td>\n",
       "      <td>9141804</td>\n",
       "      <td>2023-04-03</td>\n",
       "    </tr>\n",
       "    <tr>\n",
       "      <th>267810</th>\n",
       "      <td>900</td>\n",
       "      <td>1608300000</td>\n",
       "      <td>8873</td>\n",
       "      <td>4676867</td>\n",
       "      <td>1787000</td>\n",
       "      <td>2023-04-03</td>\n",
       "    </tr>\n",
       "    <tr>\n",
       "      <th>308700</th>\n",
       "      <td>329</td>\n",
       "      <td>1316000000</td>\n",
       "      <td>16</td>\n",
       "      <td>5127</td>\n",
       "      <td>4000000</td>\n",
       "      <td>2023-04-03</td>\n",
       "    </tr>\n",
       "    <tr>\n",
       "      <th>322190</th>\n",
       "      <td>120</td>\n",
       "      <td>1071023640</td>\n",
       "      <td>46</td>\n",
       "      <td>5982</td>\n",
       "      <td>8925197</td>\n",
       "      <td>2023-04-03</td>\n",
       "    </tr>\n",
       "  </tbody>\n",
       "</table>\n",
       "<p>25421 rows × 6 columns</p>\n",
       "</div>"
      ],
      "text/plain": [
       "             종가             시가총액      거래량          거래대금      상장주식수          날짜\n",
       "티커                                                                            \n",
       "005930  1512000  222716597544000   105910  160876738000  147299337  2013-04-01\n",
       "005380   222000   48901378338000   176622   39130504500  220276479  2013-04-01\n",
       "012330   306000   29787222078000   104476   31961990000   97343863  2013-04-01\n",
       "005490   325000   28335721375000    66523   21557368500   87186835  2013-04-01\n",
       "000270    55100   22335520419700  1181176   64902836500  405363347  2013-04-01\n",
       "...         ...              ...      ...           ...        ...         ...\n",
       "288490       48       1831056000    35714       1782290   38147000  2023-04-03\n",
       "267060      181       1654666524        0             0    9141804  2023-04-03\n",
       "267810      900       1608300000     8873       4676867    1787000  2023-04-03\n",
       "308700      329       1316000000       16          5127    4000000  2023-04-03\n",
       "322190      120       1071023640       46          5982    8925197  2023-04-03\n",
       "\n",
       "[25421 rows x 6 columns]"
      ]
     },
     "execution_count": 11,
     "metadata": {},
     "output_type": "execute_result"
    }
   ],
   "source": [
    "result"
   ]
  },
  {
   "cell_type": "code",
   "execution_count": 12,
   "metadata": {},
   "outputs": [],
   "source": [
    "result.reset_index(inplace=True)"
   ]
  },
  {
   "cell_type": "code",
   "execution_count": 13,
   "metadata": {},
   "outputs": [
    {
     "data": {
      "text/html": [
       "<div>\n",
       "<style scoped>\n",
       "    .dataframe tbody tr th:only-of-type {\n",
       "        vertical-align: middle;\n",
       "    }\n",
       "\n",
       "    .dataframe tbody tr th {\n",
       "        vertical-align: top;\n",
       "    }\n",
       "\n",
       "    .dataframe thead th {\n",
       "        text-align: right;\n",
       "    }\n",
       "</style>\n",
       "<table border=\"1\" class=\"dataframe\">\n",
       "  <thead>\n",
       "    <tr style=\"text-align: right;\">\n",
       "      <th></th>\n",
       "      <th>티커</th>\n",
       "      <th>종가</th>\n",
       "      <th>시가총액</th>\n",
       "      <th>거래량</th>\n",
       "      <th>거래대금</th>\n",
       "      <th>상장주식수</th>\n",
       "      <th>날짜</th>\n",
       "    </tr>\n",
       "  </thead>\n",
       "  <tbody>\n",
       "    <tr>\n",
       "      <th>0</th>\n",
       "      <td>005930</td>\n",
       "      <td>1512000</td>\n",
       "      <td>222716597544000</td>\n",
       "      <td>105910</td>\n",
       "      <td>160876738000</td>\n",
       "      <td>147299337</td>\n",
       "      <td>2013-04-01</td>\n",
       "    </tr>\n",
       "    <tr>\n",
       "      <th>1</th>\n",
       "      <td>005380</td>\n",
       "      <td>222000</td>\n",
       "      <td>48901378338000</td>\n",
       "      <td>176622</td>\n",
       "      <td>39130504500</td>\n",
       "      <td>220276479</td>\n",
       "      <td>2013-04-01</td>\n",
       "    </tr>\n",
       "    <tr>\n",
       "      <th>2</th>\n",
       "      <td>012330</td>\n",
       "      <td>306000</td>\n",
       "      <td>29787222078000</td>\n",
       "      <td>104476</td>\n",
       "      <td>31961990000</td>\n",
       "      <td>97343863</td>\n",
       "      <td>2013-04-01</td>\n",
       "    </tr>\n",
       "    <tr>\n",
       "      <th>3</th>\n",
       "      <td>005490</td>\n",
       "      <td>325000</td>\n",
       "      <td>28335721375000</td>\n",
       "      <td>66523</td>\n",
       "      <td>21557368500</td>\n",
       "      <td>87186835</td>\n",
       "      <td>2013-04-01</td>\n",
       "    </tr>\n",
       "    <tr>\n",
       "      <th>4</th>\n",
       "      <td>000270</td>\n",
       "      <td>55100</td>\n",
       "      <td>22335520419700</td>\n",
       "      <td>1181176</td>\n",
       "      <td>64902836500</td>\n",
       "      <td>405363347</td>\n",
       "      <td>2013-04-01</td>\n",
       "    </tr>\n",
       "  </tbody>\n",
       "</table>\n",
       "</div>"
      ],
      "text/plain": [
       "       티커       종가             시가총액      거래량          거래대금      상장주식수  \\\n",
       "0  005930  1512000  222716597544000   105910  160876738000  147299337   \n",
       "1  005380   222000   48901378338000   176622   39130504500  220276479   \n",
       "2  012330   306000   29787222078000   104476   31961990000   97343863   \n",
       "3  005490   325000   28335721375000    66523   21557368500   87186835   \n",
       "4  000270    55100   22335520419700  1181176   64902836500  405363347   \n",
       "\n",
       "           날짜  \n",
       "0  2013-04-01  \n",
       "1  2013-04-01  \n",
       "2  2013-04-01  \n",
       "3  2013-04-01  \n",
       "4  2013-04-01  "
      ]
     },
     "execution_count": 13,
     "metadata": {},
     "output_type": "execute_result"
    }
   ],
   "source": [
    "\n",
    "result.head()"
   ]
  },
  {
   "cell_type": "code",
   "execution_count": 14,
   "metadata": {},
   "outputs": [],
   "source": [
    "stock_code = fsdata['종목코드'].unique().tolist()"
   ]
  },
  {
   "cell_type": "code",
   "execution_count": 15,
   "metadata": {},
   "outputs": [],
   "source": [
    "stock_code = fsdata['종목코드'].astype(str).str.zfill(6).unique()"
   ]
  },
  {
   "cell_type": "code",
   "execution_count": 16,
   "metadata": {},
   "outputs": [
    {
     "name": "stderr",
     "output_type": "stream",
     "text": [
      "  1%|          | 8/1201 [00:00<00:19, 60.40it/s]"
     ]
    },
    {
     "name": "stderr",
     "output_type": "stream",
     "text": [
      "100%|██████████| 1201/1201 [00:19<00:00, 61.16it/s]\n"
     ]
    }
   ],
   "source": [
    "market_cap = pd.DataFrame()\n",
    "for i in tqdm(stock_code):\n",
    "    market_cap = pd.concat([market_cap, result[result['티커']==i][['티커', '시가총액', '날짜']]])"
   ]
  },
  {
   "cell_type": "code",
   "execution_count": 17,
   "metadata": {},
   "outputs": [],
   "source": [
    "market_cap.reset_index(inplace=True)"
   ]
  },
  {
   "cell_type": "code",
   "execution_count": 18,
   "metadata": {},
   "outputs": [],
   "source": [
    "market_cap.drop('index', axis=1, inplace=True)"
   ]
  },
  {
   "cell_type": "code",
   "execution_count": 19,
   "metadata": {},
   "outputs": [],
   "source": [
    "market_cap.columns = ['티커' ,'시가총액', '리밸런싱일']"
   ]
  },
  {
   "cell_type": "code",
   "execution_count": 21,
   "metadata": {},
   "outputs": [],
   "source": [
    "fs_cap_data = pd.concat([market_cap, fsdata_cal], axis=1)"
   ]
  },
  {
   "cell_type": "code",
   "execution_count": 22,
   "metadata": {},
   "outputs": [],
   "source": [
    "fs_cap_data.drop('Unnamed: 0', axis=1, inplace=True)"
   ]
  },
  {
   "cell_type": "code",
   "execution_count": 23,
   "metadata": {},
   "outputs": [],
   "source": [
    "fs_cap_data['PER'] = fs_cap_data['시가총액'] / fs_cap_data['당기순이익']\n",
    "fs_cap_data['PBR'] = fs_cap_data['시가총액'] / (fs_cap_data['자본금'] + fs_cap_data['이익잉여금'])\n",
    "fs_cap_data['PSR'] = fs_cap_data['시가총액'] / fs_cap_data['매출액']\n"
   ]
  },
  {
   "cell_type": "code",
   "execution_count": 24,
   "metadata": {},
   "outputs": [
    {
     "name": "stdout",
     "output_type": "stream",
     "text": [
      "<class 'pandas.core.frame.DataFrame'>\n",
      "RangeIndex: 13211 entries, 0 to 13210\n",
      "Data columns (total 27 columns):\n",
      " #   Column    Non-Null Count  Dtype  \n",
      "---  ------    --------------  -----  \n",
      " 0   티커        13211 non-null  object \n",
      " 1   시가총액      13211 non-null  int64  \n",
      " 2   리밸런싱일     13211 non-null  object \n",
      " 3   회사명       13211 non-null  object \n",
      " 4   종목코드      13211 non-null  int64  \n",
      " 5   날짜        13211 non-null  object \n",
      " 6   당기순이익     13211 non-null  float64\n",
      " 7   자산        13211 non-null  float64\n",
      " 8   부채        13211 non-null  float64\n",
      " 9   자본금       13211 non-null  float64\n",
      " 10  이익잉여금     13211 non-null  float64\n",
      " 11  매출액       13211 non-null  float64\n",
      " 12  매출총이익     13211 non-null  float64\n",
      " 13  영업이익      13211 non-null  float64\n",
      " 14  자본        13211 non-null  float64\n",
      " 15  유동자산      13211 non-null  float64\n",
      " 16  ROA       13211 non-null  float64\n",
      " 17  자산회전율     13211 non-null  float64\n",
      " 18  매출액영업이익률  13211 non-null  float64\n",
      " 19  매출총이익률    13211 non-null  float64\n",
      " 20  매출액증가율    13211 non-null  float64\n",
      " 21  영업이익증가율   13211 non-null  float64\n",
      " 22  순이익증가율    13211 non-null  float64\n",
      " 23  총자본증가율    13211 non-null  float64\n",
      " 24  PER       13211 non-null  float64\n",
      " 25  PBR       13211 non-null  float64\n",
      " 26  PSR       13211 non-null  float64\n",
      "dtypes: float64(21), int64(2), object(4)\n",
      "memory usage: 2.7+ MB\n"
     ]
    }
   ],
   "source": [
    "fs_cap_data.info()"
   ]
  },
  {
   "cell_type": "code",
   "execution_count": 25,
   "metadata": {},
   "outputs": [],
   "source": [
    "fs_cap_data.drop('종목코드', axis=1, inplace=True)"
   ]
  },
  {
   "cell_type": "code",
   "execution_count": 26,
   "metadata": {},
   "outputs": [],
   "source": [
    "fs_cap_data.to_csv('fs_ver_3.0.csv')"
   ]
  },
  {
   "cell_type": "code",
   "execution_count": 27,
   "metadata": {},
   "outputs": [],
   "source": [
    "pricedata = pd.read_csv('enlist_ver_2.0.csv')\n",
    "pricedata['종목코드'] = pricedata['종목코드'].astype(str).str.zfill(6)\n",
    "pricedata.drop(['Unnamed: 0', 'Unnamed: 0.1'], axis=1, inplace=True)"
   ]
  },
  {
   "cell_type": "code",
   "execution_count": 28,
   "metadata": {},
   "outputs": [
    {
     "name": "stdout",
     "output_type": "stream",
     "text": [
      "<class 'pandas.core.frame.DataFrame'>\n",
      "RangeIndex: 3620556 entries, 0 to 3620555\n",
      "Data columns (total 7 columns):\n",
      " #   Column  Dtype  \n",
      "---  ------  -----  \n",
      " 0   날짜      object \n",
      " 1   시가      float64\n",
      " 2   고가      float64\n",
      " 3   저가      float64\n",
      " 4   종가      float64\n",
      " 5   거래량     float64\n",
      " 6   종목코드    object \n",
      "dtypes: float64(5), object(2)\n",
      "memory usage: 193.4+ MB\n"
     ]
    }
   ],
   "source": [
    "pricedata.info()"
   ]
  },
  {
   "cell_type": "code",
   "execution_count": 29,
   "metadata": {},
   "outputs": [],
   "source": [
    "fsdata_code = fs_cap_data['티커'].unique().tolist()"
   ]
  },
  {
   "cell_type": "code",
   "execution_count": 30,
   "metadata": {},
   "outputs": [
    {
     "name": "stderr",
     "output_type": "stream",
     "text": [
      "100%|██████████| 1201/1201 [19:11<00:00,  1.04it/s]\n"
     ]
    },
    {
     "data": {
      "text/plain": [
       "1201"
      ]
     },
     "execution_count": 30,
     "metadata": {},
     "output_type": "execute_result"
    }
   ],
   "source": [
    "result = pd.DataFrame()\n",
    "for i in tqdm(fsdata_code):\n",
    "    result = pd.concat([result, pricedata[pricedata['종목코드']==i]], axis=0)\n",
    "\n",
    "len(result['종목코드'].unique())"
   ]
  },
  {
   "cell_type": "code",
   "execution_count": 31,
   "metadata": {},
   "outputs": [],
   "source": [
    "result.to_csv('price_ver_3.0.csv')"
   ]
  },
  {
   "cell_type": "code",
   "execution_count": 41,
   "metadata": {},
   "outputs": [],
   "source": [
    "pricedata = pd.read_csv('price_ver_3.0.csv')"
   ]
  },
  {
   "cell_type": "code",
   "execution_count": 42,
   "metadata": {},
   "outputs": [],
   "source": [
    "pricedata.columns = ['X', 'Date', 'Open','High', 'Low', 'Close', 'Volume', '종목코드']\n",
    "pricedata.drop('X', axis=1, inplace=True)\n",
    "pricedata['Date'] = pd.to_datetime(pricedata['Date'])"
   ]
  },
  {
   "cell_type": "code",
   "execution_count": 43,
   "metadata": {},
   "outputs": [],
   "source": [
    "pricedata = pricedata.groupby('종목코드').apply(lambda group: group.set_index('Date').sort_index()).reset_index(level=0, drop=True)"
   ]
  },
  {
   "cell_type": "code",
   "execution_count": 44,
   "metadata": {},
   "outputs": [],
   "source": [
    "pricedata['종목코드'] = pricedata['종목코드'].astype(str).str.zfill(6)"
   ]
  },
  {
   "cell_type": "code",
   "execution_count": 45,
   "metadata": {},
   "outputs": [
    {
     "name": "stdout",
     "output_type": "stream",
     "text": [
      "<class 'pandas.core.frame.DataFrame'>\n",
      "DatetimeIndex: 3249906 entries, 2012-10-25 to 2023-10-25\n",
      "Data columns (total 6 columns):\n",
      " #   Column  Dtype  \n",
      "---  ------  -----  \n",
      " 0   Open    float64\n",
      " 1   High    float64\n",
      " 2   Low     float64\n",
      " 3   Close   float64\n",
      " 4   Volume  float64\n",
      " 5   종목코드    object \n",
      "dtypes: float64(5), object(1)\n",
      "memory usage: 173.6+ MB\n"
     ]
    }
   ],
   "source": [
    "pricedata.head()\n",
    "pricedata.info()"
   ]
  },
  {
   "cell_type": "code",
   "execution_count": 46,
   "metadata": {},
   "outputs": [],
   "source": [
    "pricedata['Volume'] = pricedata['Volume'].astype(int)"
   ]
  },
  {
   "cell_type": "code",
   "execution_count": 47,
   "metadata": {},
   "outputs": [
    {
     "name": "stdout",
     "output_type": "stream",
     "text": [
      "<class 'pandas.core.frame.DataFrame'>\n",
      "DatetimeIndex: 3249906 entries, 2012-10-25 to 2023-10-25\n",
      "Data columns (total 6 columns):\n",
      " #   Column  Dtype  \n",
      "---  ------  -----  \n",
      " 0   Open    float64\n",
      " 1   High    float64\n",
      " 2   Low     float64\n",
      " 3   Close   float64\n",
      " 4   Volume  int32  \n",
      " 5   종목코드    object \n",
      "dtypes: float64(4), int32(1), object(1)\n",
      "memory usage: 161.2+ MB\n"
     ]
    }
   ],
   "source": [
    "pricedata.info()"
   ]
  },
  {
   "cell_type": "code",
   "execution_count": 73,
   "metadata": {},
   "outputs": [
    {
     "data": {
      "text/plain": [
       "1201"
      ]
     },
     "execution_count": 73,
     "metadata": {},
     "output_type": "execute_result"
    }
   ],
   "source": [
    "len(pricedata['종목코드'].unique())"
   ]
  },
  {
   "cell_type": "code",
   "execution_count": 49,
   "metadata": {},
   "outputs": [],
   "source": [
    "pricedata.to_csv('price_ver_final.csv')"
   ]
  },
  {
   "cell_type": "code",
   "execution_count": 60,
   "metadata": {},
   "outputs": [],
   "source": [
    "a = fsdata['회사명'].tolist()"
   ]
  },
  {
   "cell_type": "code",
   "execution_count": 67,
   "metadata": {},
   "outputs": [
    {
     "data": {
      "text/html": [
       "<div>\n",
       "<style scoped>\n",
       "    .dataframe tbody tr th:only-of-type {\n",
       "        vertical-align: middle;\n",
       "    }\n",
       "\n",
       "    .dataframe tbody tr th {\n",
       "        vertical-align: top;\n",
       "    }\n",
       "\n",
       "    .dataframe thead th {\n",
       "        text-align: right;\n",
       "    }\n",
       "</style>\n",
       "<table border=\"1\" class=\"dataframe\">\n",
       "  <thead>\n",
       "    <tr style=\"text-align: right;\">\n",
       "      <th></th>\n",
       "      <th>회사명</th>\n",
       "    </tr>\n",
       "  </thead>\n",
       "  <tbody>\n",
       "    <tr>\n",
       "      <th>0</th>\n",
       "      <td>동화약품(주)</td>\n",
       "    </tr>\n",
       "    <tr>\n",
       "      <th>1</th>\n",
       "      <td>동화약품(주)</td>\n",
       "    </tr>\n",
       "    <tr>\n",
       "      <th>2</th>\n",
       "      <td>동화약품(주)</td>\n",
       "    </tr>\n",
       "    <tr>\n",
       "      <th>3</th>\n",
       "      <td>동화약품(주)</td>\n",
       "    </tr>\n",
       "    <tr>\n",
       "      <th>4</th>\n",
       "      <td>동화약품(주)</td>\n",
       "    </tr>\n",
       "    <tr>\n",
       "      <th>...</th>\n",
       "      <td>...</td>\n",
       "    </tr>\n",
       "    <tr>\n",
       "      <th>13206</th>\n",
       "      <td>(주)삼양사</td>\n",
       "    </tr>\n",
       "    <tr>\n",
       "      <th>13207</th>\n",
       "      <td>(주)삼양사</td>\n",
       "    </tr>\n",
       "    <tr>\n",
       "      <th>13208</th>\n",
       "      <td>(주)삼양사</td>\n",
       "    </tr>\n",
       "    <tr>\n",
       "      <th>13209</th>\n",
       "      <td>(주)삼양사</td>\n",
       "    </tr>\n",
       "    <tr>\n",
       "      <th>13210</th>\n",
       "      <td>(주)삼양사</td>\n",
       "    </tr>\n",
       "  </tbody>\n",
       "</table>\n",
       "<p>13211 rows × 1 columns</p>\n",
       "</div>"
      ],
      "text/plain": [
       "           회사명\n",
       "0      동화약품(주)\n",
       "1      동화약품(주)\n",
       "2      동화약품(주)\n",
       "3      동화약품(주)\n",
       "4      동화약품(주)\n",
       "...        ...\n",
       "13206   (주)삼양사\n",
       "13207   (주)삼양사\n",
       "13208   (주)삼양사\n",
       "13209   (주)삼양사\n",
       "13210   (주)삼양사\n",
       "\n",
       "[13211 rows x 1 columns]"
      ]
     },
     "execution_count": 67,
     "metadata": {},
     "output_type": "execute_result"
    }
   ],
   "source": [
    "b = pd.DataFrame({'회사명' : a})\n",
    "b"
   ]
  },
  {
   "cell_type": "code",
   "execution_count": 69,
   "metadata": {},
   "outputs": [
    {
     "data": {
      "text/html": [
       "<div>\n",
       "<style scoped>\n",
       "    .dataframe tbody tr th:only-of-type {\n",
       "        vertical-align: middle;\n",
       "    }\n",
       "\n",
       "    .dataframe tbody tr th {\n",
       "        vertical-align: top;\n",
       "    }\n",
       "\n",
       "    .dataframe thead th {\n",
       "        text-align: right;\n",
       "    }\n",
       "</style>\n",
       "<table border=\"1\" class=\"dataframe\">\n",
       "  <thead>\n",
       "    <tr style=\"text-align: right;\">\n",
       "      <th></th>\n",
       "      <th>Open</th>\n",
       "      <th>High</th>\n",
       "      <th>Low</th>\n",
       "      <th>Close</th>\n",
       "      <th>Volume</th>\n",
       "      <th>종목코드</th>\n",
       "    </tr>\n",
       "    <tr>\n",
       "      <th>Date</th>\n",
       "      <th></th>\n",
       "      <th></th>\n",
       "      <th></th>\n",
       "      <th></th>\n",
       "      <th></th>\n",
       "      <th></th>\n",
       "    </tr>\n",
       "  </thead>\n",
       "  <tbody>\n",
       "    <tr>\n",
       "      <th>2012-10-25</th>\n",
       "      <td>6500.0</td>\n",
       "      <td>6560.0</td>\n",
       "      <td>6300.0</td>\n",
       "      <td>6340.0</td>\n",
       "      <td>243931</td>\n",
       "      <td>000020</td>\n",
       "    </tr>\n",
       "    <tr>\n",
       "      <th>2012-10-26</th>\n",
       "      <td>6340.0</td>\n",
       "      <td>6410.0</td>\n",
       "      <td>6110.0</td>\n",
       "      <td>6200.0</td>\n",
       "      <td>503636</td>\n",
       "      <td>000020</td>\n",
       "    </tr>\n",
       "    <tr>\n",
       "      <th>2012-10-29</th>\n",
       "      <td>6150.0</td>\n",
       "      <td>6400.0</td>\n",
       "      <td>6060.0</td>\n",
       "      <td>6270.0</td>\n",
       "      <td>191814</td>\n",
       "      <td>000020</td>\n",
       "    </tr>\n",
       "    <tr>\n",
       "      <th>2012-10-30</th>\n",
       "      <td>6220.0</td>\n",
       "      <td>6440.0</td>\n",
       "      <td>6220.0</td>\n",
       "      <td>6390.0</td>\n",
       "      <td>66578</td>\n",
       "      <td>000020</td>\n",
       "    </tr>\n",
       "    <tr>\n",
       "      <th>2012-10-31</th>\n",
       "      <td>6440.0</td>\n",
       "      <td>6590.0</td>\n",
       "      <td>6410.0</td>\n",
       "      <td>6500.0</td>\n",
       "      <td>378777</td>\n",
       "      <td>000020</td>\n",
       "    </tr>\n",
       "    <tr>\n",
       "      <th>...</th>\n",
       "      <td>...</td>\n",
       "      <td>...</td>\n",
       "      <td>...</td>\n",
       "      <td>...</td>\n",
       "      <td>...</td>\n",
       "      <td>...</td>\n",
       "    </tr>\n",
       "    <tr>\n",
       "      <th>2023-10-19</th>\n",
       "      <td>42500.0</td>\n",
       "      <td>42850.0</td>\n",
       "      <td>41350.0</td>\n",
       "      <td>41350.0</td>\n",
       "      <td>17020</td>\n",
       "      <td>145990</td>\n",
       "    </tr>\n",
       "    <tr>\n",
       "      <th>2023-10-20</th>\n",
       "      <td>41300.0</td>\n",
       "      <td>41300.0</td>\n",
       "      <td>40200.0</td>\n",
       "      <td>40600.0</td>\n",
       "      <td>20493</td>\n",
       "      <td>145990</td>\n",
       "    </tr>\n",
       "    <tr>\n",
       "      <th>2023-10-23</th>\n",
       "      <td>40300.0</td>\n",
       "      <td>40850.0</td>\n",
       "      <td>40000.0</td>\n",
       "      <td>40500.0</td>\n",
       "      <td>9132</td>\n",
       "      <td>145990</td>\n",
       "    </tr>\n",
       "    <tr>\n",
       "      <th>2023-10-24</th>\n",
       "      <td>40850.0</td>\n",
       "      <td>41500.0</td>\n",
       "      <td>40500.0</td>\n",
       "      <td>41200.0</td>\n",
       "      <td>4540</td>\n",
       "      <td>145990</td>\n",
       "    </tr>\n",
       "    <tr>\n",
       "      <th>2023-10-25</th>\n",
       "      <td>41650.0</td>\n",
       "      <td>42350.0</td>\n",
       "      <td>41250.0</td>\n",
       "      <td>41800.0</td>\n",
       "      <td>10999</td>\n",
       "      <td>145990</td>\n",
       "    </tr>\n",
       "  </tbody>\n",
       "</table>\n",
       "<p>3249906 rows × 6 columns</p>\n",
       "</div>"
      ],
      "text/plain": [
       "               Open     High      Low    Close  Volume    종목코드\n",
       "Date                                                          \n",
       "2012-10-25   6500.0   6560.0   6300.0   6340.0  243931  000020\n",
       "2012-10-26   6340.0   6410.0   6110.0   6200.0  503636  000020\n",
       "2012-10-29   6150.0   6400.0   6060.0   6270.0  191814  000020\n",
       "2012-10-30   6220.0   6440.0   6220.0   6390.0   66578  000020\n",
       "2012-10-31   6440.0   6590.0   6410.0   6500.0  378777  000020\n",
       "...             ...      ...      ...      ...     ...     ...\n",
       "2023-10-19  42500.0  42850.0  41350.0  41350.0   17020  145990\n",
       "2023-10-20  41300.0  41300.0  40200.0  40600.0   20493  145990\n",
       "2023-10-23  40300.0  40850.0  40000.0  40500.0    9132  145990\n",
       "2023-10-24  40850.0  41500.0  40500.0  41200.0    4540  145990\n",
       "2023-10-25  41650.0  42350.0  41250.0  41800.0   10999  145990\n",
       "\n",
       "[3249906 rows x 6 columns]"
      ]
     },
     "execution_count": 69,
     "metadata": {},
     "output_type": "execute_result"
    }
   ],
   "source": [
    "pricedata"
   ]
  },
  {
   "cell_type": "code",
   "execution_count": null,
   "metadata": {},
   "outputs": [],
   "source": []
  },
  {
   "cell_type": "code",
   "execution_count": 68,
   "metadata": {},
   "outputs": [
    {
     "ename": "InvalidIndexError",
     "evalue": "Reindexing only valid with uniquely valued Index objects",
     "output_type": "error",
     "traceback": [
      "\u001b[1;31m---------------------------------------------------------------------------\u001b[0m",
      "\u001b[1;31mInvalidIndexError\u001b[0m                         Traceback (most recent call last)",
      "\u001b[1;32m~\\AppData\\Local\\Temp\\ipykernel_1064\\81742029.py\u001b[0m in \u001b[0;36m<module>\u001b[1;34m\u001b[0m\n\u001b[1;32m----> 1\u001b[1;33m \u001b[0mpd\u001b[0m\u001b[1;33m.\u001b[0m\u001b[0mconcat\u001b[0m\u001b[1;33m(\u001b[0m\u001b[1;33m[\u001b[0m\u001b[0mpricedata\u001b[0m\u001b[1;33m,\u001b[0m \u001b[0mb\u001b[0m\u001b[1;33m]\u001b[0m\u001b[1;33m,\u001b[0m \u001b[0maxis\u001b[0m\u001b[1;33m=\u001b[0m\u001b[1;36m1\u001b[0m\u001b[1;33m)\u001b[0m\u001b[1;33m\u001b[0m\u001b[1;33m\u001b[0m\u001b[0m\n\u001b[0m",
      "\u001b[1;32m~\\AppData\\Roaming\\Python\\Python39\\site-packages\\pandas\\util\\_decorators.py\u001b[0m in \u001b[0;36mwrapper\u001b[1;34m(*args, **kwargs)\u001b[0m\n\u001b[0;32m    309\u001b[0m                     \u001b[0mstacklevel\u001b[0m\u001b[1;33m=\u001b[0m\u001b[0mstacklevel\u001b[0m\u001b[1;33m,\u001b[0m\u001b[1;33m\u001b[0m\u001b[1;33m\u001b[0m\u001b[0m\n\u001b[0;32m    310\u001b[0m                 )\n\u001b[1;32m--> 311\u001b[1;33m             \u001b[1;32mreturn\u001b[0m \u001b[0mfunc\u001b[0m\u001b[1;33m(\u001b[0m\u001b[1;33m*\u001b[0m\u001b[0margs\u001b[0m\u001b[1;33m,\u001b[0m \u001b[1;33m**\u001b[0m\u001b[0mkwargs\u001b[0m\u001b[1;33m)\u001b[0m\u001b[1;33m\u001b[0m\u001b[1;33m\u001b[0m\u001b[0m\n\u001b[0m\u001b[0;32m    312\u001b[0m \u001b[1;33m\u001b[0m\u001b[0m\n\u001b[0;32m    313\u001b[0m         \u001b[1;32mreturn\u001b[0m \u001b[0mwrapper\u001b[0m\u001b[1;33m\u001b[0m\u001b[1;33m\u001b[0m\u001b[0m\n",
      "\u001b[1;32m~\\AppData\\Roaming\\Python\\Python39\\site-packages\\pandas\\core\\reshape\\concat.py\u001b[0m in \u001b[0;36mconcat\u001b[1;34m(objs, axis, join, ignore_index, keys, levels, names, verify_integrity, sort, copy)\u001b[0m\n\u001b[0;32m    305\u001b[0m     )\n\u001b[0;32m    306\u001b[0m \u001b[1;33m\u001b[0m\u001b[0m\n\u001b[1;32m--> 307\u001b[1;33m     \u001b[1;32mreturn\u001b[0m \u001b[0mop\u001b[0m\u001b[1;33m.\u001b[0m\u001b[0mget_result\u001b[0m\u001b[1;33m(\u001b[0m\u001b[1;33m)\u001b[0m\u001b[1;33m\u001b[0m\u001b[1;33m\u001b[0m\u001b[0m\n\u001b[0m\u001b[0;32m    308\u001b[0m \u001b[1;33m\u001b[0m\u001b[0m\n\u001b[0;32m    309\u001b[0m \u001b[1;33m\u001b[0m\u001b[0m\n",
      "\u001b[1;32m~\\AppData\\Roaming\\Python\\Python39\\site-packages\\pandas\\core\\reshape\\concat.py\u001b[0m in \u001b[0;36mget_result\u001b[1;34m(self)\u001b[0m\n\u001b[0;32m    526\u001b[0m                     \u001b[0mobj_labels\u001b[0m \u001b[1;33m=\u001b[0m \u001b[0mobj\u001b[0m\u001b[1;33m.\u001b[0m\u001b[0maxes\u001b[0m\u001b[1;33m[\u001b[0m\u001b[1;36m1\u001b[0m \u001b[1;33m-\u001b[0m \u001b[0max\u001b[0m\u001b[1;33m]\u001b[0m\u001b[1;33m\u001b[0m\u001b[1;33m\u001b[0m\u001b[0m\n\u001b[0;32m    527\u001b[0m                     \u001b[1;32mif\u001b[0m \u001b[1;32mnot\u001b[0m \u001b[0mnew_labels\u001b[0m\u001b[1;33m.\u001b[0m\u001b[0mequals\u001b[0m\u001b[1;33m(\u001b[0m\u001b[0mobj_labels\u001b[0m\u001b[1;33m)\u001b[0m\u001b[1;33m:\u001b[0m\u001b[1;33m\u001b[0m\u001b[1;33m\u001b[0m\u001b[0m\n\u001b[1;32m--> 528\u001b[1;33m                         \u001b[0mindexers\u001b[0m\u001b[1;33m[\u001b[0m\u001b[0max\u001b[0m\u001b[1;33m]\u001b[0m \u001b[1;33m=\u001b[0m \u001b[0mobj_labels\u001b[0m\u001b[1;33m.\u001b[0m\u001b[0mget_indexer\u001b[0m\u001b[1;33m(\u001b[0m\u001b[0mnew_labels\u001b[0m\u001b[1;33m)\u001b[0m\u001b[1;33m\u001b[0m\u001b[1;33m\u001b[0m\u001b[0m\n\u001b[0m\u001b[0;32m    529\u001b[0m \u001b[1;33m\u001b[0m\u001b[0m\n\u001b[0;32m    530\u001b[0m                 \u001b[0mmgrs_indexers\u001b[0m\u001b[1;33m.\u001b[0m\u001b[0mappend\u001b[0m\u001b[1;33m(\u001b[0m\u001b[1;33m(\u001b[0m\u001b[0mobj\u001b[0m\u001b[1;33m.\u001b[0m\u001b[0m_mgr\u001b[0m\u001b[1;33m,\u001b[0m \u001b[0mindexers\u001b[0m\u001b[1;33m)\u001b[0m\u001b[1;33m)\u001b[0m\u001b[1;33m\u001b[0m\u001b[1;33m\u001b[0m\u001b[0m\n",
      "\u001b[1;32m~\\AppData\\Roaming\\Python\\Python39\\site-packages\\pandas\\core\\indexes\\base.py\u001b[0m in \u001b[0;36mget_indexer\u001b[1;34m(self, target, method, limit, tolerance)\u001b[0m\n\u001b[0;32m   3440\u001b[0m \u001b[1;33m\u001b[0m\u001b[0m\n\u001b[0;32m   3441\u001b[0m         \u001b[1;32mif\u001b[0m \u001b[1;32mnot\u001b[0m \u001b[0mself\u001b[0m\u001b[1;33m.\u001b[0m\u001b[0m_index_as_unique\u001b[0m\u001b[1;33m:\u001b[0m\u001b[1;33m\u001b[0m\u001b[1;33m\u001b[0m\u001b[0m\n\u001b[1;32m-> 3442\u001b[1;33m             \u001b[1;32mraise\u001b[0m \u001b[0mInvalidIndexError\u001b[0m\u001b[1;33m(\u001b[0m\u001b[0mself\u001b[0m\u001b[1;33m.\u001b[0m\u001b[0m_requires_unique_msg\u001b[0m\u001b[1;33m)\u001b[0m\u001b[1;33m\u001b[0m\u001b[1;33m\u001b[0m\u001b[0m\n\u001b[0m\u001b[0;32m   3443\u001b[0m \u001b[1;33m\u001b[0m\u001b[0m\n\u001b[0;32m   3444\u001b[0m         \u001b[1;32mif\u001b[0m \u001b[1;32mnot\u001b[0m \u001b[0mself\u001b[0m\u001b[1;33m.\u001b[0m\u001b[0m_should_compare\u001b[0m\u001b[1;33m(\u001b[0m\u001b[0mtarget\u001b[0m\u001b[1;33m)\u001b[0m \u001b[1;32mand\u001b[0m \u001b[1;32mnot\u001b[0m \u001b[0mis_interval_dtype\u001b[0m\u001b[1;33m(\u001b[0m\u001b[0mself\u001b[0m\u001b[1;33m.\u001b[0m\u001b[0mdtype\u001b[0m\u001b[1;33m)\u001b[0m\u001b[1;33m:\u001b[0m\u001b[1;33m\u001b[0m\u001b[1;33m\u001b[0m\u001b[0m\n",
      "\u001b[1;31mInvalidIndexError\u001b[0m: Reindexing only valid with uniquely valued Index objects"
     ]
    }
   ],
   "source": [
    "pd.concat([pricedata, b], axis=1)"
   ]
  }
 ],
 "metadata": {
  "kernelspec": {
   "display_name": "base",
   "language": "python",
   "name": "python3"
  },
  "language_info": {
   "codemirror_mode": {
    "name": "ipython",
    "version": 3
   },
   "file_extension": ".py",
   "mimetype": "text/x-python",
   "name": "python",
   "nbconvert_exporter": "python",
   "pygments_lexer": "ipython3",
   "version": "3.9.13"
  }
 },
 "nbformat": 4,
 "nbformat_minor": 2
}
