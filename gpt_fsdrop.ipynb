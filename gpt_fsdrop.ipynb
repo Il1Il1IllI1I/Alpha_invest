{
 "cells": [
  {
   "cell_type": "code",
   "execution_count": null,
   "metadata": {},
   "outputs": [],
   "source": [
    "import pandas as pd\n",
    "from tqdm import tqdm\n",
    "from pykrx import stock\n",
    "\n",
    "# 데이터 불러오기\n",
    "pricedata = pd.read_csv('enlist_ver_2.0.csv')\n",
    "fsdata = pd.read_csv('kor_fs.csv', encoding='cp949')\n",
    "\n",
    "# 필요한 컬럼명 수정 및 인덱스 초기화\n",
    "fsdata.columns = ['회사명', '종목코드', '날짜', ... , '유동자산']  # 컬럼명 재설정\n",
    "fsdata.reset_index(drop=True, inplace=True)\n",
    "fsdata.to_csv('fs_ver_1.0.csv')\n",
    "\n",
    "# 필요한 조건에 따라 데이터 필터링\n",
    "for i in tqdm(uni):\n",
    "    if len(fsdata[fsdata['종목코드']==i]['날짜'].unique()) != 12:\n",
    "        fsdata = fsdata.drop(fsdata[fsdata['종목코드']==i].index)\n",
    "\n",
    "# 주어진 코드 리스트에 따라 데이터 추출\n",
    "pricelist = pricedata['종목코드'].unique().tolist()\n",
    "fsdata_filt = pd.DataFrame()\n",
    "for i in tqdm(pricelist):\n",
    "   fsdata_filt = pd.concat([fsdata_filt, fsdata[fsdata['종목코드']==i]])\n",
    "\n",
    "# 날짜 기준 데이터 필터링\n",
    "date_list = ['2011/03', ... , '2019/06']\n",
    "fsdata_filt_date = fsdata_filt.copy()\n",
    "for i in tqdm(date_list):\n",
    "    fsdata_filt_date = fsdata_filt_date.drop(fsdata_filt_date[fsdata_filt['날짜']==i].index)\n",
    "\n",
    "# 추가 계산 및 지표 생성\n",
    "fsdata_cal['ROA'] = fsdata_cal['당기순이익'] / fsdata_cal['자산']\n",
    "... # 여러 가지 지표 생성\n",
    "\n",
    "# 시가총액 데이터 추가\n",
    "result = pd.DataFrame()\n",
    "for date in tqdm(date_list):\n",
    "    date_data = stock.get_market_cap_by_ticker(date)\n",
    "    ...\n",
    "fs_cap_data['PER'] = fs_cap_data['시가총액'] / fs_cap_data['당기순이익']\n",
    "\n",
    "# 가격 데이터 전처리\n",
    "pricedata = pd.read_csv('price_ver_3.0.csv')\n",
    "pricedata.columns = ['X', 'Date', 'Open','High', 'Low', 'Close', 'Volume', '종목코드']\n",
    "pricedata.drop('X', axis=1, inplace=True)\n",
    "pricedata['Date'] = pd.to_datetime(pricedata['Date'])\n",
    "pricedata = pricedata.groupby('종목코드').apply(lambda group: group.set_index('Date').sort_index()).reset_index(level=0, drop=True)\n"
   ]
  }
 ],
 "metadata": {
  "language_info": {
   "name": "python"
  }
 },
 "nbformat": 4,
 "nbformat_minor": 2
}
